{
  "nbformat": 4,
  "nbformat_minor": 0,
  "metadata": {
    "colab": {
      "provenance": []
    },
    "kernelspec": {
      "name": "python3",
      "display_name": "Python 3"
    },
    "language_info": {
      "name": "python"
    }
  },
  "cells": [
    {
      "cell_type": "code",
      "source": [
        "import pandas as pd"
      ],
      "metadata": {
        "id": "odYQDOfk_YIu"
      },
      "execution_count": null,
      "outputs": []
    },
    {
      "cell_type": "code",
      "source": [
        "train = pd.read_csv(\"/content/train.csv\")\n",
        "test = pd.read_csv(\"/content/test.csv\")\n",
        "\n",
        "train"
      ],
      "metadata": {
        "colab": {
          "base_uri": "https://localhost:8080/",
          "height": 424
        },
        "id": "CIF-ata9-2vS",
        "outputId": "6d81b259-7909-4108-c7b8-9cbd9f928a13"
      },
      "execution_count": null,
      "outputs": [
        {
          "output_type": "execute_result",
          "data": {
            "text/plain": [
              "                                               hypotheis  \\\n",
              "0      Receiving Party shall not reverse engineer any...   \n",
              "1      Receiving Party shall not reverse engineer any...   \n",
              "2      Receiving Party shall not reverse engineer any...   \n",
              "3      Receiving Party shall not reverse engineer any...   \n",
              "4      Receiving Party shall not reverse engineer any...   \n",
              "...                                                  ...   \n",
              "76112  Receiving Party shall not use any Confidential...   \n",
              "76113  Receiving Party shall not use any Confidential...   \n",
              "76114  Receiving Party shall not use any Confidential...   \n",
              "76115  Receiving Party shall not use any Confidential...   \n",
              "76116  Receiving Party shall not use any Confidential...   \n",
              "\n",
              "                                                 premise   choice  \n",
              "0                                                  2 3 1  Neutral  \n",
              "1      WHEREAS in connection with RFP 2014 620 Reques...  Neutral  \n",
              "2      4 Nothing in this Agreement is to be construed...  Neutral  \n",
              "3      5 All Confidential Information in any form and...  Neutral  \n",
              "4      8 This Agreement shall enter into force on the...  Neutral  \n",
              "...                                                  ...      ...  \n",
              "76112  Each Party acknowledges that money damages wou...  Neutral  \n",
              "76113  Each Party in its capacity as a provider of in...  Neutral  \n",
              "76114  Accordingly each Party will also be entitled t...  Neutral  \n",
              "76115                        12 Confidential Information  Neutral  \n",
              "76116  ii such Party will not have any rights or clai...  Neutral  \n",
              "\n",
              "[76117 rows x 3 columns]"
            ],
            "text/html": [
              "\n",
              "  <div id=\"df-4916e956-3376-4164-aa97-d93053943ce1\">\n",
              "    <div class=\"colab-df-container\">\n",
              "      <div>\n",
              "<style scoped>\n",
              "    .dataframe tbody tr th:only-of-type {\n",
              "        vertical-align: middle;\n",
              "    }\n",
              "\n",
              "    .dataframe tbody tr th {\n",
              "        vertical-align: top;\n",
              "    }\n",
              "\n",
              "    .dataframe thead th {\n",
              "        text-align: right;\n",
              "    }\n",
              "</style>\n",
              "<table border=\"1\" class=\"dataframe\">\n",
              "  <thead>\n",
              "    <tr style=\"text-align: right;\">\n",
              "      <th></th>\n",
              "      <th>hypotheis</th>\n",
              "      <th>premise</th>\n",
              "      <th>choice</th>\n",
              "    </tr>\n",
              "  </thead>\n",
              "  <tbody>\n",
              "    <tr>\n",
              "      <th>0</th>\n",
              "      <td>Receiving Party shall not reverse engineer any...</td>\n",
              "      <td>2 3 1</td>\n",
              "      <td>Neutral</td>\n",
              "    </tr>\n",
              "    <tr>\n",
              "      <th>1</th>\n",
              "      <td>Receiving Party shall not reverse engineer any...</td>\n",
              "      <td>WHEREAS in connection with RFP 2014 620 Reques...</td>\n",
              "      <td>Neutral</td>\n",
              "    </tr>\n",
              "    <tr>\n",
              "      <th>2</th>\n",
              "      <td>Receiving Party shall not reverse engineer any...</td>\n",
              "      <td>4 Nothing in this Agreement is to be construed...</td>\n",
              "      <td>Neutral</td>\n",
              "    </tr>\n",
              "    <tr>\n",
              "      <th>3</th>\n",
              "      <td>Receiving Party shall not reverse engineer any...</td>\n",
              "      <td>5 All Confidential Information in any form and...</td>\n",
              "      <td>Neutral</td>\n",
              "    </tr>\n",
              "    <tr>\n",
              "      <th>4</th>\n",
              "      <td>Receiving Party shall not reverse engineer any...</td>\n",
              "      <td>8 This Agreement shall enter into force on the...</td>\n",
              "      <td>Neutral</td>\n",
              "    </tr>\n",
              "    <tr>\n",
              "      <th>...</th>\n",
              "      <td>...</td>\n",
              "      <td>...</td>\n",
              "      <td>...</td>\n",
              "    </tr>\n",
              "    <tr>\n",
              "      <th>76112</th>\n",
              "      <td>Receiving Party shall not use any Confidential...</td>\n",
              "      <td>Each Party acknowledges that money damages wou...</td>\n",
              "      <td>Neutral</td>\n",
              "    </tr>\n",
              "    <tr>\n",
              "      <th>76113</th>\n",
              "      <td>Receiving Party shall not use any Confidential...</td>\n",
              "      <td>Each Party in its capacity as a provider of in...</td>\n",
              "      <td>Neutral</td>\n",
              "    </tr>\n",
              "    <tr>\n",
              "      <th>76114</th>\n",
              "      <td>Receiving Party shall not use any Confidential...</td>\n",
              "      <td>Accordingly each Party will also be entitled t...</td>\n",
              "      <td>Neutral</td>\n",
              "    </tr>\n",
              "    <tr>\n",
              "      <th>76115</th>\n",
              "      <td>Receiving Party shall not use any Confidential...</td>\n",
              "      <td>12 Confidential Information</td>\n",
              "      <td>Neutral</td>\n",
              "    </tr>\n",
              "    <tr>\n",
              "      <th>76116</th>\n",
              "      <td>Receiving Party shall not use any Confidential...</td>\n",
              "      <td>ii such Party will not have any rights or clai...</td>\n",
              "      <td>Neutral</td>\n",
              "    </tr>\n",
              "  </tbody>\n",
              "</table>\n",
              "<p>76117 rows × 3 columns</p>\n",
              "</div>\n",
              "      <button class=\"colab-df-convert\" onclick=\"convertToInteractive('df-4916e956-3376-4164-aa97-d93053943ce1')\"\n",
              "              title=\"Convert this dataframe to an interactive table.\"\n",
              "              style=\"display:none;\">\n",
              "        \n",
              "  <svg xmlns=\"http://www.w3.org/2000/svg\" height=\"24px\"viewBox=\"0 0 24 24\"\n",
              "       width=\"24px\">\n",
              "    <path d=\"M0 0h24v24H0V0z\" fill=\"none\"/>\n",
              "    <path d=\"M18.56 5.44l.94 2.06.94-2.06 2.06-.94-2.06-.94-.94-2.06-.94 2.06-2.06.94zm-11 1L8.5 8.5l.94-2.06 2.06-.94-2.06-.94L8.5 2.5l-.94 2.06-2.06.94zm10 10l.94 2.06.94-2.06 2.06-.94-2.06-.94-.94-2.06-.94 2.06-2.06.94z\"/><path d=\"M17.41 7.96l-1.37-1.37c-.4-.4-.92-.59-1.43-.59-.52 0-1.04.2-1.43.59L10.3 9.45l-7.72 7.72c-.78.78-.78 2.05 0 2.83L4 21.41c.39.39.9.59 1.41.59.51 0 1.02-.2 1.41-.59l7.78-7.78 2.81-2.81c.8-.78.8-2.07 0-2.86zM5.41 20L4 18.59l7.72-7.72 1.47 1.35L5.41 20z\"/>\n",
              "  </svg>\n",
              "      </button>\n",
              "      \n",
              "  <style>\n",
              "    .colab-df-container {\n",
              "      display:flex;\n",
              "      flex-wrap:wrap;\n",
              "      gap: 12px;\n",
              "    }\n",
              "\n",
              "    .colab-df-convert {\n",
              "      background-color: #E8F0FE;\n",
              "      border: none;\n",
              "      border-radius: 50%;\n",
              "      cursor: pointer;\n",
              "      display: none;\n",
              "      fill: #1967D2;\n",
              "      height: 32px;\n",
              "      padding: 0 0 0 0;\n",
              "      width: 32px;\n",
              "    }\n",
              "\n",
              "    .colab-df-convert:hover {\n",
              "      background-color: #E2EBFA;\n",
              "      box-shadow: 0px 1px 2px rgba(60, 64, 67, 0.3), 0px 1px 3px 1px rgba(60, 64, 67, 0.15);\n",
              "      fill: #174EA6;\n",
              "    }\n",
              "\n",
              "    [theme=dark] .colab-df-convert {\n",
              "      background-color: #3B4455;\n",
              "      fill: #D2E3FC;\n",
              "    }\n",
              "\n",
              "    [theme=dark] .colab-df-convert:hover {\n",
              "      background-color: #434B5C;\n",
              "      box-shadow: 0px 1px 3px 1px rgba(0, 0, 0, 0.15);\n",
              "      filter: drop-shadow(0px 1px 2px rgba(0, 0, 0, 0.3));\n",
              "      fill: #FFFFFF;\n",
              "    }\n",
              "  </style>\n",
              "\n",
              "      <script>\n",
              "        const buttonEl =\n",
              "          document.querySelector('#df-4916e956-3376-4164-aa97-d93053943ce1 button.colab-df-convert');\n",
              "        buttonEl.style.display =\n",
              "          google.colab.kernel.accessAllowed ? 'block' : 'none';\n",
              "\n",
              "        async function convertToInteractive(key) {\n",
              "          const element = document.querySelector('#df-4916e956-3376-4164-aa97-d93053943ce1');\n",
              "          const dataTable =\n",
              "            await google.colab.kernel.invokeFunction('convertToInteractive',\n",
              "                                                     [key], {});\n",
              "          if (!dataTable) return;\n",
              "\n",
              "          const docLinkHtml = 'Like what you see? Visit the ' +\n",
              "            '<a target=\"_blank\" href=https://colab.research.google.com/notebooks/data_table.ipynb>data table notebook</a>'\n",
              "            + ' to learn more about interactive tables.';\n",
              "          element.innerHTML = '';\n",
              "          dataTable['output_type'] = 'display_data';\n",
              "          await google.colab.output.renderOutput(dataTable, element);\n",
              "          const docLink = document.createElement('div');\n",
              "          docLink.innerHTML = docLinkHtml;\n",
              "          element.appendChild(docLink);\n",
              "        }\n",
              "      </script>\n",
              "    </div>\n",
              "  </div>\n",
              "  "
            ]
          },
          "metadata": {},
          "execution_count": 61
        }
      ]
    },
    {
      "cell_type": "code",
      "source": [
        "train.count()"
      ],
      "metadata": {
        "colab": {
          "base_uri": "https://localhost:8080/"
        },
        "id": "KGxvEb6Rt_v1",
        "outputId": "3db1fb96-6e5f-4a8a-a8cf-984b4afdca12"
      },
      "execution_count": null,
      "outputs": [
        {
          "output_type": "execute_result",
          "data": {
            "text/plain": [
              "hypotheis    76117\n",
              "premise      76117\n",
              "choice       76117\n",
              "dtype: int64"
            ]
          },
          "metadata": {},
          "execution_count": 7
        }
      ]
    },
    {
      "cell_type": "code",
      "source": [
        "def change_label(x):\n",
        "  if x == \"Entailment\":\n",
        "    return 0\n",
        "  elif x == \"Contradiction\":\n",
        "    return 1\n",
        "  else:\n",
        "    return 2\n",
        "\n",
        "train[\"choice\"] = train.choice.apply(lambda x: change_label(x))\n",
        "test[\"choice\"]  = test.choice.apply(lambda x: change_label(x))"
      ],
      "metadata": {
        "id": "R2IMtM0S-gJV"
      },
      "execution_count": null,
      "outputs": []
    },
    {
      "cell_type": "code",
      "source": [
        "import numpy as np\n",
        "import tensorflow as tf\n",
        "from tensorflow import keras"
      ],
      "metadata": {
        "id": "dd7tejrq_foQ"
      },
      "execution_count": null,
      "outputs": []
    },
    {
      "cell_type": "markdown",
      "source": [
        "## Create a vocabulary index"
      ],
      "metadata": {
        "id": "VHLtACjPzbI7"
      }
    },
    {
      "cell_type": "code",
      "source": [
        "import os"
      ],
      "metadata": {
        "id": "qhaYa0RYaHKl"
      },
      "execution_count": null,
      "outputs": []
    },
    {
      "cell_type": "code",
      "source": [
        "from tensorflow.keras.layers import TextVectorization"
      ],
      "metadata": {
        "id": "1yrclHdjaTlU"
      },
      "execution_count": null,
      "outputs": []
    },
    {
      "cell_type": "code",
      "source": [
        "vectorizer = TextVectorization(max_tokens=20000, output_sequence_length=200)\n",
        "text_ds = tf.data.Dataset.from_tensor_slices(train[\"hypotheis\"] + train [\"premise\"]).batch(128)\n",
        "vectorizer.adapt(text_ds)"
      ],
      "metadata": {
        "id": "7hiF8gyubbDY"
      },
      "execution_count": null,
      "outputs": []
    },
    {
      "cell_type": "code",
      "source": [
        "vectorizer.get_vocabulary()[:5]\n"
      ],
      "metadata": {
        "colab": {
          "base_uri": "https://localhost:8080/"
        },
        "id": "vltM5ulVbjLp",
        "outputId": "e9738b7d-2642-41c4-e513-622adf19a1f4"
      },
      "execution_count": null,
      "outputs": [
        {
          "output_type": "execute_result",
          "data": {
            "text/plain": [
              "['', '[UNK]', 'the', 'party', 'of']"
            ]
          },
          "metadata": {},
          "execution_count": 38
        }
      ]
    },
    {
      "cell_type": "code",
      "source": [
        "output = vectorizer([[\"Receiving Party shall not reverse engineer any objects which embody Disclosing Party s Confidential Information\"]])\n",
        "output.numpy()"
      ],
      "metadata": {
        "colab": {
          "base_uri": "https://localhost:8080/"
        },
        "id": "ctrhiOG0b_GP",
        "outputId": "79f52c97-8887-4d41-bfe0-5f6814f8c752"
      },
      "execution_count": null,
      "outputs": [
        {
          "output_type": "execute_result",
          "data": {
            "text/plain": [
              "array([[  9,   3,  10,  17,  99, 100,  12, 101,  37, 103,  20,   3,  25,\n",
              "          6,   5,   0,   0,   0,   0,   0,   0,   0,   0,   0,   0,   0,\n",
              "          0,   0,   0,   0,   0,   0,   0,   0,   0,   0,   0,   0,   0,\n",
              "          0,   0,   0,   0,   0,   0,   0,   0,   0,   0,   0,   0,   0,\n",
              "          0,   0,   0,   0,   0,   0,   0,   0,   0,   0,   0,   0,   0,\n",
              "          0,   0,   0,   0,   0,   0,   0,   0,   0,   0,   0,   0,   0,\n",
              "          0,   0,   0,   0,   0,   0,   0,   0,   0,   0,   0,   0,   0,\n",
              "          0,   0,   0,   0,   0,   0,   0,   0,   0,   0,   0,   0,   0,\n",
              "          0,   0,   0,   0,   0,   0,   0,   0,   0,   0,   0,   0,   0,\n",
              "          0,   0,   0,   0,   0,   0,   0,   0,   0,   0,   0,   0,   0,\n",
              "          0,   0,   0,   0,   0,   0,   0,   0,   0,   0,   0,   0,   0,\n",
              "          0,   0,   0,   0,   0,   0,   0,   0,   0,   0,   0,   0,   0,\n",
              "          0,   0,   0,   0,   0,   0,   0,   0,   0,   0,   0,   0,   0,\n",
              "          0,   0,   0,   0,   0,   0,   0,   0,   0,   0,   0,   0,   0,\n",
              "          0,   0,   0,   0,   0,   0,   0,   0,   0,   0,   0,   0,   0,\n",
              "          0,   0,   0,   0,   0]])"
            ]
          },
          "metadata": {},
          "execution_count": 39
        }
      ]
    },
    {
      "cell_type": "code",
      "source": [
        "#Here's a dict mapping words to their indices:\n",
        "voc = vectorizer.get_vocabulary()\n",
        "word_index = dict(zip(voc, range(len(voc))))"
      ],
      "metadata": {
        "id": "2-2_aTAY4hg-"
      },
      "execution_count": null,
      "outputs": []
    },
    {
      "cell_type": "code",
      "source": [
        "test = [\"Receiving\", \"Party\", \"shall\", \"not\", \"reverse\", \"engineer\"]\n",
        "[word_index[w.lower()] for w in test]"
      ],
      "metadata": {
        "colab": {
          "base_uri": "https://localhost:8080/"
        },
        "id": "OgKFfREq4nWa",
        "outputId": "d9a6555c-5b1b-4dca-deb7-ea876f7c1d9e"
      },
      "execution_count": null,
      "outputs": [
        {
          "output_type": "execute_result",
          "data": {
            "text/plain": [
              "[9, 3, 10, 17, 99, 100]"
            ]
          },
          "metadata": {},
          "execution_count": 53
        }
      ]
    },
    {
      "cell_type": "markdown",
      "source": [
        "## Load pre-trained word embeddings"
      ],
      "metadata": {
        "id": "Px7gKy8Zzi8H"
      }
    },
    {
      "cell_type": "markdown",
      "source": [
        "#### 1. Download the zip file\n",
        "#### 2. Unzip it"
      ],
      "metadata": {
        "id": "h7JUNiGl35mv"
      }
    },
    {
      "cell_type": "code",
      "source": [
        "!wget http://nlp.stanford.edu/data/glove.6B.zip\n",
        "!unzip glove*.zip"
      ],
      "metadata": {
        "colab": {
          "base_uri": "https://localhost:8080/"
        },
        "id": "v45HdKigzrls",
        "outputId": "22aff9b1-1b06-49e2-b985-46b591e2fcef"
      },
      "execution_count": null,
      "outputs": [
        {
          "output_type": "stream",
          "name": "stdout",
          "text": [
            "--2023-01-18 17:05:27--  http://nlp.stanford.edu/data/glove.6B.zip\n",
            "Resolving nlp.stanford.edu (nlp.stanford.edu)... 171.64.67.140\n",
            "Connecting to nlp.stanford.edu (nlp.stanford.edu)|171.64.67.140|:80... connected.\n",
            "HTTP request sent, awaiting response... 302 Found\n",
            "Location: https://nlp.stanford.edu/data/glove.6B.zip [following]\n",
            "--2023-01-18 17:05:27--  https://nlp.stanford.edu/data/glove.6B.zip\n",
            "Connecting to nlp.stanford.edu (nlp.stanford.edu)|171.64.67.140|:443... connected.\n",
            "HTTP request sent, awaiting response... 301 Moved Permanently\n",
            "Location: https://downloads.cs.stanford.edu/nlp/data/glove.6B.zip [following]\n",
            "--2023-01-18 17:05:27--  https://downloads.cs.stanford.edu/nlp/data/glove.6B.zip\n",
            "Resolving downloads.cs.stanford.edu (downloads.cs.stanford.edu)... 171.64.64.22\n",
            "Connecting to downloads.cs.stanford.edu (downloads.cs.stanford.edu)|171.64.64.22|:443... connected.\n",
            "HTTP request sent, awaiting response... 200 OK\n",
            "Length: 862182613 (822M) [application/zip]\n",
            "Saving to: ‘glove.6B.zip’\n",
            "\n",
            "glove.6B.zip        100%[===================>] 822.24M  5.02MB/s    in 2m 39s  \n",
            "\n",
            "2023-01-18 17:08:07 (5.17 MB/s) - ‘glove.6B.zip’ saved [862182613/862182613]\n",
            "\n",
            "Archive:  glove.6B.zip\n",
            "  inflating: glove.6B.50d.txt        \n",
            "  inflating: glove.6B.100d.txt       \n",
            "  inflating: glove.6B.200d.txt       \n",
            "  inflating: glove.6B.300d.txt       \n"
          ]
        }
      ]
    },
    {
      "cell_type": "markdown",
      "source": [
        "#### 3. Get the exact path of where the embedding vectors are extracted using\n",
        "#### 4. Index the vectors"
      ],
      "metadata": {
        "id": "fMAZI3lx4HR7"
      }
    },
    {
      "cell_type": "code",
      "source": [
        "!ls\n",
        "!pwd"
      ],
      "metadata": {
        "colab": {
          "base_uri": "https://localhost:8080/"
        },
        "id": "3uoqx7BC4Nra",
        "outputId": "d8eadf2c-fcad-4559-a297-e1250ad197e0"
      },
      "execution_count": null,
      "outputs": [
        {
          "output_type": "stream",
          "name": "stdout",
          "text": [
            "glove.6B.100d.txt  glove.6B.300d.txt  glove.6B.zip  test.csv\n",
            "glove.6B.200d.txt  glove.6B.50d.txt   sample_data   train.csv\n",
            "/content\n"
          ]
        }
      ]
    },
    {
      "cell_type": "code",
      "source": [
        "path_to_glove_file = os.path.join(\n",
        "    os.path.expanduser(\"~\"), \"/content/glove.6B.100d.txt\"\n",
        ")\n",
        "\n",
        "embeddings_index = {}\n",
        "with open(path_to_glove_file) as f:\n",
        "    for line in f:\n",
        "        word, coefs = line.split(maxsplit=1)\n",
        "        coefs = np.fromstring(coefs, \"f\", sep=\" \")\n",
        "        embeddings_index[word] = coefs\n",
        "\n",
        "print(\"Found %s word vectors.\" % len(embeddings_index))"
      ],
      "metadata": {
        "colab": {
          "base_uri": "https://localhost:8080/"
        },
        "id": "7PRyAVD1wrJ3",
        "outputId": "d0cf1ec5-15eb-4fcc-f3a9-abce636bf89b"
      },
      "execution_count": null,
      "outputs": [
        {
          "output_type": "stream",
          "name": "stdout",
          "text": [
            "Found 400000 word vectors.\n"
          ]
        }
      ]
    },
    {
      "cell_type": "markdown",
      "source": [
        "### Next, we load the pre-trained word embeddings matrix into an Embedding layer. Now, let's prepare a corresponding embedding matrix that we can use in a Keras Embedding layer."
      ],
      "metadata": {
        "id": "VjF-OiLu-gb4"
      }
    },
    {
      "cell_type": "code",
      "source": [
        "num_tokens = len(voc) + 2\n",
        "embedding_dim = 100\n",
        "hits = 0\n",
        "misses = 0\n",
        "\n",
        "# Prepare embedding matrix\n",
        "embedding_matrix = np.zeros((num_tokens, embedding_dim))\n",
        "for word, i in word_index.items():\n",
        "    embedding_vector = embeddings_index.get(word)\n",
        "    if embedding_vector is not None:\n",
        "        # Words not found in embedding index will be all-zeros.\n",
        "        # This includes the representation for \"padding\" and \"OOV\"\n",
        "        embedding_matrix[i] = embedding_vector\n",
        "        hits += 1\n",
        "    else:\n",
        "        misses += 1\n",
        "print(\"Converted %d words (%d misses)\" % (hits, misses))"
      ],
      "metadata": {
        "colab": {
          "base_uri": "https://localhost:8080/"
        },
        "id": "pa6rjWXd-sx0",
        "outputId": "83de12d4-5e75-47c6-b898-3e5d436b2fce"
      },
      "execution_count": null,
      "outputs": [
        {
          "output_type": "stream",
          "name": "stdout",
          "text": [
            "Converted 8626 words (7198 misses)\n"
          ]
        }
      ]
    },
    {
      "cell_type": "code",
      "source": [
        "from tensorflow.keras.layers import Embedding\n",
        "\n",
        "embedding_layer = Embedding(\n",
        "    num_tokens,\n",
        "    embedding_dim,\n",
        "    embeddings_initializer=keras.initializers.Constant(embedding_matrix),\n",
        "    trainable=False,\n",
        ")"
      ],
      "metadata": {
        "id": "sbf3NFEA-kWQ"
      },
      "execution_count": null,
      "outputs": []
    },
    {
      "cell_type": "markdown",
      "source": [
        "## Build the model"
      ],
      "metadata": {
        "id": "HSXBAL_Uzn33"
      }
    },
    {
      "cell_type": "code",
      "source": [
        "from tensorflow.keras import layers\n",
        "\n",
        "int_sequences_input = keras.Input(shape=(None,), dtype=\"int64\")\n",
        "embedded_sequences = embedding_layer(int_sequences_input)\n",
        "x = layers.Conv1D(128, 5, activation=\"relu\")(embedded_sequences)\n",
        "x = layers.MaxPooling1D(5)(x)\n",
        "x = layers.Conv1D(128, 5, activation=\"relu\")(x)\n",
        "x = layers.MaxPooling1D(5)(x)\n",
        "x = layers.Conv1D(128, 5, activation=\"relu\")(x)\n",
        "x = layers.GlobalMaxPooling1D()(x)\n",
        "x = layers.Dense(128, activation=\"relu\")(x)\n",
        "x = layers.Dropout(0.5)(x)\n",
        "preds = layers.Dense(3, activation=\"softmax\")(x)\n",
        "model = keras.Model(int_sequences_input, preds)\n",
        "model.summary()"
      ],
      "metadata": {
        "colab": {
          "base_uri": "https://localhost:8080/"
        },
        "id": "6cD7dzi0-1Bc",
        "outputId": "7ac04b14-641e-4a53-b59f-3b62f7f04131"
      },
      "execution_count": null,
      "outputs": [
        {
          "output_type": "stream",
          "name": "stdout",
          "text": [
            "Model: \"model\"\n",
            "_________________________________________________________________\n",
            " Layer (type)                Output Shape              Param #   \n",
            "=================================================================\n",
            " input_2 (InputLayer)        [(None, None)]            0         \n",
            "                                                                 \n",
            " embedding (Embedding)       (None, None, 100)         1582600   \n",
            "                                                                 \n",
            " conv1d_3 (Conv1D)           (None, None, 128)         64128     \n",
            "                                                                 \n",
            " max_pooling1d_2 (MaxPooling  (None, None, 128)        0         \n",
            " 1D)                                                             \n",
            "                                                                 \n",
            " conv1d_4 (Conv1D)           (None, None, 128)         82048     \n",
            "                                                                 \n",
            " max_pooling1d_3 (MaxPooling  (None, None, 128)        0         \n",
            " 1D)                                                             \n",
            "                                                                 \n",
            " conv1d_5 (Conv1D)           (None, None, 128)         82048     \n",
            "                                                                 \n",
            " global_max_pooling1d_1 (Glo  (None, 128)              0         \n",
            " balMaxPooling1D)                                                \n",
            "                                                                 \n",
            " dense_1 (Dense)             (None, 128)               16512     \n",
            "                                                                 \n",
            " dropout_1 (Dropout)         (None, 128)               0         \n",
            "                                                                 \n",
            " dense_2 (Dense)             (None, 3)                 387       \n",
            "                                                                 \n",
            "=================================================================\n",
            "Total params: 1,827,723\n",
            "Trainable params: 245,123\n",
            "Non-trainable params: 1,582,600\n",
            "_________________________________________________________________\n"
          ]
        }
      ]
    },
    {
      "cell_type": "markdown",
      "source": [
        "## Train the model"
      ],
      "metadata": {
        "id": "TCyL-fV7_ANu"
      }
    },
    {
      "cell_type": "code",
      "source": [
        "x_train = vectorizer(np.array([[s] for s in train[\"hypotheis\"]])).numpy()\n",
        "x_val = vectorizer(np.array([[s] for s in test[\"hypotheis\"]])).numpy()\n",
        "\n",
        "y_train = np.array(train[\"choice\"])\n",
        "y_val = np.array(test[\"choice\"])"
      ],
      "metadata": {
        "id": "W3ck_2YxAa7-"
      },
      "execution_count": null,
      "outputs": []
    },
    {
      "cell_type": "code",
      "source": [
        "#https://stackoverflow.com/questions/56293964/categorical-focal-loss-on-keras\n",
        "model.compile(\n",
        "    loss=\"sparse_categorical_crossentropy\", optimizer=\"rmsprop\", metrics=[\"acc\"]\n",
        ")\n",
        "model.fit(x_train, y_train, batch_size=128, epochs=20, validation_data=(x_val, y_val))"
      ],
      "metadata": {
        "colab": {
          "base_uri": "https://localhost:8080/"
        },
        "id": "vRilcwDyAlWt",
        "outputId": "48f6e2f7-c3f9-4c4d-8e54-1f6c6cd734a3"
      },
      "execution_count": null,
      "outputs": [
        {
          "output_type": "stream",
          "name": "stdout",
          "text": [
            "Epoch 1/20\n",
            "595/595 [==============================] - 157s 262ms/step - loss: 0.3850 - acc: 0.8895 - val_loss: 0.3617 - val_acc: 0.8923\n",
            "Epoch 2/20\n",
            "595/595 [==============================] - 153s 257ms/step - loss: 0.3708 - acc: 0.8904 - val_loss: 0.3625 - val_acc: 0.8923\n",
            "Epoch 3/20\n",
            "595/595 [==============================] - 155s 261ms/step - loss: 0.3681 - acc: 0.8904 - val_loss: 0.3631 - val_acc: 0.8923\n",
            "Epoch 4/20\n",
            "595/595 [==============================] - 154s 260ms/step - loss: 0.3664 - acc: 0.8904 - val_loss: 0.3699 - val_acc: 0.8923\n",
            "Epoch 5/20\n",
            "595/595 [==============================] - 154s 259ms/step - loss: 0.3663 - acc: 0.8904 - val_loss: 0.3595 - val_acc: 0.8923\n",
            "Epoch 6/20\n",
            "595/595 [==============================] - 154s 258ms/step - loss: 0.3658 - acc: 0.8904 - val_loss: 0.3635 - val_acc: 0.8923\n",
            "Epoch 7/20\n",
            "595/595 [==============================] - 154s 259ms/step - loss: 0.3648 - acc: 0.8904 - val_loss: 0.3593 - val_acc: 0.8923\n",
            "Epoch 8/20\n",
            "595/595 [==============================] - 155s 260ms/step - loss: 0.3661 - acc: 0.8904 - val_loss: 0.3583 - val_acc: 0.8923\n",
            "Epoch 9/20\n",
            "595/595 [==============================] - 155s 261ms/step - loss: 0.3646 - acc: 0.8904 - val_loss: 0.3601 - val_acc: 0.8923\n",
            "Epoch 10/20\n",
            "595/595 [==============================] - 155s 261ms/step - loss: 0.3652 - acc: 0.8904 - val_loss: 0.3621 - val_acc: 0.8923\n",
            "Epoch 11/20\n",
            "595/595 [==============================] - 153s 258ms/step - loss: 0.3651 - acc: 0.8904 - val_loss: 0.3611 - val_acc: 0.8923\n",
            "Epoch 12/20\n",
            "595/595 [==============================] - 153s 256ms/step - loss: 0.3643 - acc: 0.8904 - val_loss: 0.3630 - val_acc: 0.8923\n",
            "Epoch 13/20\n",
            "595/595 [==============================] - 154s 260ms/step - loss: 0.3651 - acc: 0.8904 - val_loss: 0.3594 - val_acc: 0.8923\n",
            "Epoch 14/20\n",
            "595/595 [==============================] - 156s 262ms/step - loss: 0.3648 - acc: 0.8904 - val_loss: 0.3596 - val_acc: 0.8923\n",
            "Epoch 15/20\n",
            "595/595 [==============================] - 156s 262ms/step - loss: 0.3649 - acc: 0.8904 - val_loss: 0.3600 - val_acc: 0.8923\n",
            "Epoch 16/20\n",
            "595/595 [==============================] - 156s 262ms/step - loss: 0.3645 - acc: 0.8904 - val_loss: 0.3600 - val_acc: 0.8923\n",
            "Epoch 17/20\n",
            "595/595 [==============================] - 155s 261ms/step - loss: 0.3639 - acc: 0.8904 - val_loss: 0.3600 - val_acc: 0.8923\n",
            "Epoch 18/20\n",
            "595/595 [==============================] - 155s 260ms/step - loss: 0.3636 - acc: 0.8904 - val_loss: 0.3699 - val_acc: 0.8923\n",
            "Epoch 19/20\n",
            "595/595 [==============================] - 158s 265ms/step - loss: 0.3642 - acc: 0.8904 - val_loss: 0.3587 - val_acc: 0.8923\n",
            "Epoch 20/20\n",
            "595/595 [==============================] - 158s 265ms/step - loss: 0.3642 - acc: 0.8904 - val_loss: 0.3711 - val_acc: 0.8923\n"
          ]
        },
        {
          "output_type": "execute_result",
          "data": {
            "text/plain": [
              "<keras.callbacks.History at 0x7f4084b93f10>"
            ]
          },
          "metadata": {},
          "execution_count": 68
        }
      ]
    },
    {
      "cell_type": "markdown",
      "source": [
        "## Next steps: https://keras.io/examples/nlp/pretrained_word_embeddings/"
      ],
      "metadata": {
        "id": "IsjdTIq5OVKq"
      }
    }
  ]
}