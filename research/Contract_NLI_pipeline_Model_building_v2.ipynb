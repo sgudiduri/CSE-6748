{
  "nbformat": 4,
  "nbformat_minor": 0,
  "metadata": {
    "colab": {
      "provenance": []
    },
    "kernelspec": {
      "name": "python3",
      "display_name": "Python 3"
    },
    "language_info": {
      "name": "python"
    },
    "accelerator": "GPU",
    "gpuClass": "standard"
  },
  "cells": [
    {
      "cell_type": "code",
      "source": [
        "#!pip install bert-pytorch\n",
        "!pip install sentencepiece\n",
        "!pip install transformers\n",
        "!pip install onnx\n",
        "!pip install fasttext\n",
        "!pip install torchtext\n",
        "!pip install scikit-learn\n",
        "!pip install d2l==1.0.0-alpha1.post0\n",
        "!pip install sklearn"
      ],
      "metadata": {
        "colab": {
          "base_uri": "https://localhost:8080/"
        },
        "id": "w9KKShmrGP49",
        "outputId": "8af41651-a256-4a26-e341-614d621b3b89"
      },
      "execution_count": 1,
      "outputs": [
        {
          "output_type": "stream",
          "name": "stdout",
          "text": [
            "Looking in indexes: https://pypi.org/simple, https://us-python.pkg.dev/colab-wheels/public/simple/\n",
            "Collecting sentencepiece\n",
            "  Downloading sentencepiece-0.1.97-cp38-cp38-manylinux_2_17_x86_64.manylinux2014_x86_64.whl (1.3 MB)\n",
            "\u001b[2K     \u001b[90m━━━━━━━━━━━━━━━━━━━━━━━━━━━━━━━━━━━━━━━━\u001b[0m \u001b[32m1.3/1.3 MB\u001b[0m \u001b[31m19.3 MB/s\u001b[0m eta \u001b[36m0:00:00\u001b[0m\n",
            "\u001b[?25hInstalling collected packages: sentencepiece\n",
            "Successfully installed sentencepiece-0.1.97\n",
            "Looking in indexes: https://pypi.org/simple, https://us-python.pkg.dev/colab-wheels/public/simple/\n",
            "Collecting transformers\n",
            "  Downloading transformers-4.25.1-py3-none-any.whl (5.8 MB)\n",
            "\u001b[2K     \u001b[90m━━━━━━━━━━━━━━━━━━━━━━━━━━━━━━━━━━━━━━━━\u001b[0m \u001b[32m5.8/5.8 MB\u001b[0m \u001b[31m28.3 MB/s\u001b[0m eta \u001b[36m0:00:00\u001b[0m\n",
            "\u001b[?25hRequirement already satisfied: numpy>=1.17 in /usr/local/lib/python3.8/dist-packages (from transformers) (1.21.6)\n",
            "Collecting tokenizers!=0.11.3,<0.14,>=0.11.1\n",
            "  Downloading tokenizers-0.13.2-cp38-cp38-manylinux_2_17_x86_64.manylinux2014_x86_64.whl (7.6 MB)\n",
            "\u001b[2K     \u001b[90m━━━━━━━━━━━━━━━━━━━━━━━━━━━━━━━━━━━━━━━━\u001b[0m \u001b[32m7.6/7.6 MB\u001b[0m \u001b[31m68.4 MB/s\u001b[0m eta \u001b[36m0:00:00\u001b[0m\n",
            "\u001b[?25hRequirement already satisfied: filelock in /usr/local/lib/python3.8/dist-packages (from transformers) (3.9.0)\n",
            "Collecting huggingface-hub<1.0,>=0.10.0\n",
            "  Downloading huggingface_hub-0.11.1-py3-none-any.whl (182 kB)\n",
            "\u001b[2K     \u001b[90m━━━━━━━━━━━━━━━━━━━━━━━━━━━━━━━━━━━━━━━\u001b[0m \u001b[32m182.4/182.4 KB\u001b[0m \u001b[31m1.3 MB/s\u001b[0m eta \u001b[36m0:00:00\u001b[0m\n",
            "\u001b[?25hRequirement already satisfied: pyyaml>=5.1 in /usr/local/lib/python3.8/dist-packages (from transformers) (6.0)\n",
            "Requirement already satisfied: requests in /usr/local/lib/python3.8/dist-packages (from transformers) (2.25.1)\n",
            "Requirement already satisfied: tqdm>=4.27 in /usr/local/lib/python3.8/dist-packages (from transformers) (4.64.1)\n",
            "Requirement already satisfied: packaging>=20.0 in /usr/local/lib/python3.8/dist-packages (from transformers) (21.3)\n",
            "Requirement already satisfied: regex!=2019.12.17 in /usr/local/lib/python3.8/dist-packages (from transformers) (2022.6.2)\n",
            "Requirement already satisfied: typing-extensions>=3.7.4.3 in /usr/local/lib/python3.8/dist-packages (from huggingface-hub<1.0,>=0.10.0->transformers) (4.4.0)\n",
            "Requirement already satisfied: pyparsing!=3.0.5,>=2.0.2 in /usr/local/lib/python3.8/dist-packages (from packaging>=20.0->transformers) (3.0.9)\n",
            "Requirement already satisfied: urllib3<1.27,>=1.21.1 in /usr/local/lib/python3.8/dist-packages (from requests->transformers) (1.24.3)\n",
            "Requirement already satisfied: idna<3,>=2.5 in /usr/local/lib/python3.8/dist-packages (from requests->transformers) (2.10)\n",
            "Requirement already satisfied: certifi>=2017.4.17 in /usr/local/lib/python3.8/dist-packages (from requests->transformers) (2022.12.7)\n",
            "Requirement already satisfied: chardet<5,>=3.0.2 in /usr/local/lib/python3.8/dist-packages (from requests->transformers) (4.0.0)\n",
            "Installing collected packages: tokenizers, huggingface-hub, transformers\n",
            "Successfully installed huggingface-hub-0.11.1 tokenizers-0.13.2 transformers-4.25.1\n",
            "Looking in indexes: https://pypi.org/simple, https://us-python.pkg.dev/colab-wheels/public/simple/\n",
            "Collecting onnx\n",
            "  Downloading onnx-1.13.0-cp38-cp38-manylinux_2_17_x86_64.manylinux2014_x86_64.whl (13.5 MB)\n",
            "\u001b[2K     \u001b[90m━━━━━━━━━━━━━━━━━━━━━━━━━━━━━━━━━━━━━━━━\u001b[0m \u001b[32m13.5/13.5 MB\u001b[0m \u001b[31m60.3 MB/s\u001b[0m eta \u001b[36m0:00:00\u001b[0m\n",
            "\u001b[?25hCollecting protobuf<4,>=3.20.2\n",
            "  Downloading protobuf-3.20.3-cp38-cp38-manylinux_2_5_x86_64.manylinux1_x86_64.whl (1.0 MB)\n",
            "\u001b[2K     \u001b[90m━━━━━━━━━━━━━━━━━━━━━━━━━━━━━━━━━━━━━━━━\u001b[0m \u001b[32m1.0/1.0 MB\u001b[0m \u001b[31m69.5 MB/s\u001b[0m eta \u001b[36m0:00:00\u001b[0m\n",
            "\u001b[?25hRequirement already satisfied: numpy>=1.16.6 in /usr/local/lib/python3.8/dist-packages (from onnx) (1.21.6)\n",
            "Requirement already satisfied: typing-extensions>=3.6.2.1 in /usr/local/lib/python3.8/dist-packages (from onnx) (4.4.0)\n",
            "Installing collected packages: protobuf, onnx\n",
            "  Attempting uninstall: protobuf\n",
            "    Found existing installation: protobuf 3.19.6\n",
            "    Uninstalling protobuf-3.19.6:\n",
            "      Successfully uninstalled protobuf-3.19.6\n",
            "\u001b[31mERROR: pip's dependency resolver does not currently take into account all the packages that are installed. This behaviour is the source of the following dependency conflicts.\n",
            "tensorflow 2.9.2 requires protobuf<3.20,>=3.9.2, but you have protobuf 3.20.3 which is incompatible.\n",
            "tensorboard 2.9.1 requires protobuf<3.20,>=3.9.2, but you have protobuf 3.20.3 which is incompatible.\u001b[0m\u001b[31m\n",
            "\u001b[0mSuccessfully installed onnx-1.13.0 protobuf-3.20.3\n",
            "Looking in indexes: https://pypi.org/simple, https://us-python.pkg.dev/colab-wheels/public/simple/\n",
            "Collecting fasttext\n",
            "  Downloading fasttext-0.9.2.tar.gz (68 kB)\n",
            "\u001b[2K     \u001b[90m━━━━━━━━━━━━━━━━━━━━━━━━━━━━━━━━━━━━━━━━\u001b[0m \u001b[32m68.8/68.8 KB\u001b[0m \u001b[31m3.3 MB/s\u001b[0m eta \u001b[36m0:00:00\u001b[0m\n",
            "\u001b[?25h  Preparing metadata (setup.py) ... \u001b[?25l\u001b[?25hdone\n",
            "Collecting pybind11>=2.2\n",
            "  Using cached pybind11-2.10.3-py3-none-any.whl (222 kB)\n",
            "Requirement already satisfied: setuptools>=0.7.0 in /usr/local/lib/python3.8/dist-packages (from fasttext) (57.4.0)\n",
            "Requirement already satisfied: numpy in /usr/local/lib/python3.8/dist-packages (from fasttext) (1.21.6)\n",
            "Building wheels for collected packages: fasttext\n",
            "  Building wheel for fasttext (setup.py) ... \u001b[?25l\u001b[?25hdone\n",
            "  Created wheel for fasttext: filename=fasttext-0.9.2-cp38-cp38-linux_x86_64.whl size=4401383 sha256=b3c89ddafdae680e09aa723899ee7ebfba9eca9244578009cd2db989b05408be\n",
            "  Stored in directory: /root/.cache/pip/wheels/93/61/2a/c54711a91c418ba06ba195b1d78ff24fcaad8592f2a694ac94\n",
            "Successfully built fasttext\n",
            "Installing collected packages: pybind11, fasttext\n",
            "Successfully installed fasttext-0.9.2 pybind11-2.10.3\n",
            "Looking in indexes: https://pypi.org/simple, https://us-python.pkg.dev/colab-wheels/public/simple/\n",
            "Requirement already satisfied: scikit-learn in /usr/local/lib/python3.8/dist-packages (1.0.2)\n",
            "Requirement already satisfied: threadpoolctl>=2.0.0 in /usr/local/lib/python3.8/dist-packages (from scikit-learn) (3.1.0)\n",
            "Requirement already satisfied: numpy>=1.14.6 in /usr/local/lib/python3.8/dist-packages (from scikit-learn) (1.21.6)\n",
            "Requirement already satisfied: joblib>=0.11 in /usr/local/lib/python3.8/dist-packages (from scikit-learn) (1.2.0)\n",
            "Requirement already satisfied: scipy>=1.1.0 in /usr/local/lib/python3.8/dist-packages (from scikit-learn) (1.7.3)\n",
            "Looking in indexes: https://pypi.org/simple, https://us-python.pkg.dev/colab-wheels/public/simple/\n",
            "Collecting d2l==1.0.0-alpha1.post0\n",
            "  Downloading d2l-1.0.0a1.post0-py3-none-any.whl (93 kB)\n",
            "\u001b[2K     \u001b[90m━━━━━━━━━━━━━━━━━━━━━━━━━━━━━━━━━━━━━━━━\u001b[0m \u001b[32m93.0/93.0 KB\u001b[0m \u001b[31m4.6 MB/s\u001b[0m eta \u001b[36m0:00:00\u001b[0m\n",
            "\u001b[?25hRequirement already satisfied: gym in /usr/local/lib/python3.8/dist-packages (from d2l==1.0.0-alpha1.post0) (0.25.2)\n",
            "Collecting matplotlib-inline\n",
            "  Downloading matplotlib_inline-0.1.6-py3-none-any.whl (9.4 kB)\n",
            "Requirement already satisfied: matplotlib in /usr/local/lib/python3.8/dist-packages (from d2l==1.0.0-alpha1.post0) (3.2.2)\n",
            "Collecting jupyter\n",
            "  Downloading jupyter-1.0.0-py2.py3-none-any.whl (2.7 kB)\n",
            "Requirement already satisfied: requests in /usr/local/lib/python3.8/dist-packages (from d2l==1.0.0-alpha1.post0) (2.25.1)\n",
            "Requirement already satisfied: numpy in /usr/local/lib/python3.8/dist-packages (from d2l==1.0.0-alpha1.post0) (1.21.6)\n",
            "Requirement already satisfied: pandas in /usr/local/lib/python3.8/dist-packages (from d2l==1.0.0-alpha1.post0) (1.3.5)\n",
            "Requirement already satisfied: cloudpickle>=1.2.0 in /usr/local/lib/python3.8/dist-packages (from gym->d2l==1.0.0-alpha1.post0) (2.2.0)\n",
            "Requirement already satisfied: gym-notices>=0.0.4 in /usr/local/lib/python3.8/dist-packages (from gym->d2l==1.0.0-alpha1.post0) (0.0.8)\n",
            "Requirement already satisfied: importlib-metadata>=4.8.0 in /usr/local/lib/python3.8/dist-packages (from gym->d2l==1.0.0-alpha1.post0) (6.0.0)\n",
            "Requirement already satisfied: jupyter-console in /usr/local/lib/python3.8/dist-packages (from jupyter->d2l==1.0.0-alpha1.post0) (6.1.0)\n",
            "Collecting qtconsole\n",
            "  Downloading qtconsole-5.4.0-py3-none-any.whl (121 kB)\n",
            "\u001b[2K     \u001b[90m━━━━━━━━━━━━━━━━━━━━━━━━━━━━━━━━━━━━━━━\u001b[0m \u001b[32m121.0/121.0 KB\u001b[0m \u001b[31m7.9 MB/s\u001b[0m eta \u001b[36m0:00:00\u001b[0m\n",
            "\u001b[?25hRequirement already satisfied: ipykernel in /usr/local/lib/python3.8/dist-packages (from jupyter->d2l==1.0.0-alpha1.post0) (5.3.4)\n",
            "Requirement already satisfied: ipywidgets in /usr/local/lib/python3.8/dist-packages (from jupyter->d2l==1.0.0-alpha1.post0) (7.7.1)\n",
            "Requirement already satisfied: nbconvert in /usr/local/lib/python3.8/dist-packages (from jupyter->d2l==1.0.0-alpha1.post0) (5.6.1)\n",
            "Requirement already satisfied: notebook in /usr/local/lib/python3.8/dist-packages (from jupyter->d2l==1.0.0-alpha1.post0) (5.7.16)\n",
            "Requirement already satisfied: cycler>=0.10 in /usr/local/lib/python3.8/dist-packages (from matplotlib->d2l==1.0.0-alpha1.post0) (0.11.0)\n",
            "Requirement already satisfied: pyparsing!=2.0.4,!=2.1.2,!=2.1.6,>=2.0.1 in /usr/local/lib/python3.8/dist-packages (from matplotlib->d2l==1.0.0-alpha1.post0) (3.0.9)\n",
            "Requirement already satisfied: kiwisolver>=1.0.1 in /usr/local/lib/python3.8/dist-packages (from matplotlib->d2l==1.0.0-alpha1.post0) (1.4.4)\n",
            "Requirement already satisfied: python-dateutil>=2.1 in /usr/local/lib/python3.8/dist-packages (from matplotlib->d2l==1.0.0-alpha1.post0) (2.8.2)\n",
            "Requirement already satisfied: traitlets in /usr/local/lib/python3.8/dist-packages (from matplotlib-inline->d2l==1.0.0-alpha1.post0) (5.7.1)\n",
            "Requirement already satisfied: pytz>=2017.3 in /usr/local/lib/python3.8/dist-packages (from pandas->d2l==1.0.0-alpha1.post0) (2022.7)\n",
            "Requirement already satisfied: chardet<5,>=3.0.2 in /usr/local/lib/python3.8/dist-packages (from requests->d2l==1.0.0-alpha1.post0) (4.0.0)\n",
            "Requirement already satisfied: certifi>=2017.4.17 in /usr/local/lib/python3.8/dist-packages (from requests->d2l==1.0.0-alpha1.post0) (2022.12.7)\n",
            "Requirement already satisfied: idna<3,>=2.5 in /usr/local/lib/python3.8/dist-packages (from requests->d2l==1.0.0-alpha1.post0) (2.10)\n",
            "Requirement already satisfied: urllib3<1.27,>=1.21.1 in /usr/local/lib/python3.8/dist-packages (from requests->d2l==1.0.0-alpha1.post0) (1.24.3)\n",
            "Requirement already satisfied: zipp>=0.5 in /usr/local/lib/python3.8/dist-packages (from importlib-metadata>=4.8.0->gym->d2l==1.0.0-alpha1.post0) (3.11.0)\n",
            "Requirement already satisfied: six>=1.5 in /usr/local/lib/python3.8/dist-packages (from python-dateutil>=2.1->matplotlib->d2l==1.0.0-alpha1.post0) (1.15.0)\n",
            "Requirement already satisfied: jupyter-client in /usr/local/lib/python3.8/dist-packages (from ipykernel->jupyter->d2l==1.0.0-alpha1.post0) (6.1.12)\n",
            "Requirement already satisfied: tornado>=4.2 in /usr/local/lib/python3.8/dist-packages (from ipykernel->jupyter->d2l==1.0.0-alpha1.post0) (6.0.4)\n",
            "Requirement already satisfied: ipython>=5.0.0 in /usr/local/lib/python3.8/dist-packages (from ipykernel->jupyter->d2l==1.0.0-alpha1.post0) (7.9.0)\n",
            "Requirement already satisfied: ipython-genutils~=0.2.0 in /usr/local/lib/python3.8/dist-packages (from ipywidgets->jupyter->d2l==1.0.0-alpha1.post0) (0.2.0)\n",
            "Requirement already satisfied: jupyterlab-widgets>=1.0.0 in /usr/local/lib/python3.8/dist-packages (from ipywidgets->jupyter->d2l==1.0.0-alpha1.post0) (3.0.5)\n",
            "Requirement already satisfied: widgetsnbextension~=3.6.0 in /usr/local/lib/python3.8/dist-packages (from ipywidgets->jupyter->d2l==1.0.0-alpha1.post0) (3.6.1)\n",
            "Requirement already satisfied: prompt-toolkit!=3.0.0,!=3.0.1,<3.1.0,>=2.0.0 in /usr/local/lib/python3.8/dist-packages (from jupyter-console->jupyter->d2l==1.0.0-alpha1.post0) (2.0.10)\n",
            "Requirement already satisfied: pygments in /usr/local/lib/python3.8/dist-packages (from jupyter-console->jupyter->d2l==1.0.0-alpha1.post0) (2.6.1)\n",
            "Requirement already satisfied: testpath in /usr/local/lib/python3.8/dist-packages (from nbconvert->jupyter->d2l==1.0.0-alpha1.post0) (0.6.0)\n",
            "Requirement already satisfied: bleach in /usr/local/lib/python3.8/dist-packages (from nbconvert->jupyter->d2l==1.0.0-alpha1.post0) (5.0.1)\n",
            "Requirement already satisfied: defusedxml in /usr/local/lib/python3.8/dist-packages (from nbconvert->jupyter->d2l==1.0.0-alpha1.post0) (0.7.1)\n",
            "Requirement already satisfied: entrypoints>=0.2.2 in /usr/local/lib/python3.8/dist-packages (from nbconvert->jupyter->d2l==1.0.0-alpha1.post0) (0.4)\n",
            "Requirement already satisfied: jinja2>=2.4 in /usr/local/lib/python3.8/dist-packages (from nbconvert->jupyter->d2l==1.0.0-alpha1.post0) (2.11.3)\n",
            "Requirement already satisfied: jupyter-core in /usr/local/lib/python3.8/dist-packages (from nbconvert->jupyter->d2l==1.0.0-alpha1.post0) (5.1.3)\n",
            "Requirement already satisfied: nbformat>=4.4 in /usr/local/lib/python3.8/dist-packages (from nbconvert->jupyter->d2l==1.0.0-alpha1.post0) (5.7.1)\n",
            "Requirement already satisfied: mistune<2,>=0.8.1 in /usr/local/lib/python3.8/dist-packages (from nbconvert->jupyter->d2l==1.0.0-alpha1.post0) (0.8.4)\n",
            "Requirement already satisfied: pandocfilters>=1.4.1 in /usr/local/lib/python3.8/dist-packages (from nbconvert->jupyter->d2l==1.0.0-alpha1.post0) (1.5.0)\n",
            "Requirement already satisfied: terminado>=0.8.1 in /usr/local/lib/python3.8/dist-packages (from notebook->jupyter->d2l==1.0.0-alpha1.post0) (0.13.3)\n",
            "Requirement already satisfied: pyzmq>=17 in /usr/local/lib/python3.8/dist-packages (from notebook->jupyter->d2l==1.0.0-alpha1.post0) (23.2.1)\n",
            "Requirement already satisfied: Send2Trash in /usr/local/lib/python3.8/dist-packages (from notebook->jupyter->d2l==1.0.0-alpha1.post0) (1.8.0)\n",
            "Requirement already satisfied: prometheus-client in /usr/local/lib/python3.8/dist-packages (from notebook->jupyter->d2l==1.0.0-alpha1.post0) (0.15.0)\n",
            "Collecting qtpy>=2.0.1\n",
            "  Downloading QtPy-2.3.0-py3-none-any.whl (83 kB)\n",
            "\u001b[2K     \u001b[90m━━━━━━━━━━━━━━━━━━━━━━━━━━━━━━━━━━━━━━━━\u001b[0m \u001b[32m83.6/83.6 KB\u001b[0m \u001b[31m11.0 MB/s\u001b[0m eta \u001b[36m0:00:00\u001b[0m\n",
            "\u001b[?25hRequirement already satisfied: setuptools>=18.5 in /usr/local/lib/python3.8/dist-packages (from ipython>=5.0.0->ipykernel->jupyter->d2l==1.0.0-alpha1.post0) (57.4.0)\n",
            "Requirement already satisfied: backcall in /usr/local/lib/python3.8/dist-packages (from ipython>=5.0.0->ipykernel->jupyter->d2l==1.0.0-alpha1.post0) (0.2.0)\n",
            "Requirement already satisfied: pexpect in /usr/local/lib/python3.8/dist-packages (from ipython>=5.0.0->ipykernel->jupyter->d2l==1.0.0-alpha1.post0) (4.8.0)\n",
            "Requirement already satisfied: pickleshare in /usr/local/lib/python3.8/dist-packages (from ipython>=5.0.0->ipykernel->jupyter->d2l==1.0.0-alpha1.post0) (0.7.5)\n",
            "Requirement already satisfied: decorator in /usr/local/lib/python3.8/dist-packages (from ipython>=5.0.0->ipykernel->jupyter->d2l==1.0.0-alpha1.post0) (4.4.2)\n",
            "Collecting jedi>=0.10\n",
            "  Downloading jedi-0.18.2-py2.py3-none-any.whl (1.6 MB)\n",
            "\u001b[2K     \u001b[90m━━━━━━━━━━━━━━━━━━━━━━━━━━━━━━━━━━━━━━━━\u001b[0m \u001b[32m1.6/1.6 MB\u001b[0m \u001b[31m39.4 MB/s\u001b[0m eta \u001b[36m0:00:00\u001b[0m\n",
            "\u001b[?25hRequirement already satisfied: MarkupSafe>=0.23 in /usr/local/lib/python3.8/dist-packages (from jinja2>=2.4->nbconvert->jupyter->d2l==1.0.0-alpha1.post0) (2.0.1)\n",
            "Requirement already satisfied: platformdirs>=2.5 in /usr/local/lib/python3.8/dist-packages (from jupyter-core->nbconvert->jupyter->d2l==1.0.0-alpha1.post0) (2.6.2)\n",
            "Requirement already satisfied: jsonschema>=2.6 in /usr/local/lib/python3.8/dist-packages (from nbformat>=4.4->nbconvert->jupyter->d2l==1.0.0-alpha1.post0) (4.3.3)\n",
            "Requirement already satisfied: fastjsonschema in /usr/local/lib/python3.8/dist-packages (from nbformat>=4.4->nbconvert->jupyter->d2l==1.0.0-alpha1.post0) (2.16.2)\n",
            "Requirement already satisfied: wcwidth in /usr/local/lib/python3.8/dist-packages (from prompt-toolkit!=3.0.0,!=3.0.1,<3.1.0,>=2.0.0->jupyter-console->jupyter->d2l==1.0.0-alpha1.post0) (0.2.5)\n",
            "Requirement already satisfied: packaging in /usr/local/lib/python3.8/dist-packages (from qtpy>=2.0.1->qtconsole->jupyter->d2l==1.0.0-alpha1.post0) (21.3)\n",
            "Requirement already satisfied: ptyprocess in /usr/local/lib/python3.8/dist-packages (from terminado>=0.8.1->notebook->jupyter->d2l==1.0.0-alpha1.post0) (0.7.0)\n",
            "Requirement already satisfied: webencodings in /usr/local/lib/python3.8/dist-packages (from bleach->nbconvert->jupyter->d2l==1.0.0-alpha1.post0) (0.5.1)\n",
            "Requirement already satisfied: parso<0.9.0,>=0.8.0 in /usr/local/lib/python3.8/dist-packages (from jedi>=0.10->ipython>=5.0.0->ipykernel->jupyter->d2l==1.0.0-alpha1.post0) (0.8.3)\n",
            "Requirement already satisfied: attrs>=17.4.0 in /usr/local/lib/python3.8/dist-packages (from jsonschema>=2.6->nbformat>=4.4->nbconvert->jupyter->d2l==1.0.0-alpha1.post0) (22.2.0)\n",
            "Requirement already satisfied: importlib-resources>=1.4.0 in /usr/local/lib/python3.8/dist-packages (from jsonschema>=2.6->nbformat>=4.4->nbconvert->jupyter->d2l==1.0.0-alpha1.post0) (5.10.2)\n",
            "Requirement already satisfied: pyrsistent!=0.17.0,!=0.17.1,!=0.17.2,>=0.14.0 in /usr/local/lib/python3.8/dist-packages (from jsonschema>=2.6->nbformat>=4.4->nbconvert->jupyter->d2l==1.0.0-alpha1.post0) (0.19.3)\n",
            "Installing collected packages: matplotlib-inline, jedi, qtpy, qtconsole, jupyter, d2l\n",
            "Successfully installed d2l-1.0.0a1.post0 jedi-0.18.2 jupyter-1.0.0 matplotlib-inline-0.1.6 qtconsole-5.4.0 qtpy-2.3.0\n",
            "Looking in indexes: https://pypi.org/simple, https://us-python.pkg.dev/colab-wheels/public/simple/\n",
            "Collecting sklearn\n",
            "  Downloading sklearn-0.0.post1.tar.gz (3.6 kB)\n",
            "  Preparing metadata (setup.py) ... \u001b[?25l\u001b[?25hdone\n",
            "Building wheels for collected packages: sklearn\n",
            "  Building wheel for sklearn (setup.py) ... \u001b[?25l\u001b[?25hdone\n",
            "  Created wheel for sklearn: filename=sklearn-0.0.post1-py3-none-any.whl size=2344 sha256=4adb209d773a07d4252452609c7f21f00bca5e66cfcac17281d0cd8851f16365\n",
            "  Stored in directory: /root/.cache/pip/wheels/14/25/f7/1cc0956978ae479e75140219088deb7a36f60459df242b1a72\n",
            "Successfully built sklearn\n",
            "Installing collected packages: sklearn\n",
            "Successfully installed sklearn-0.0.post1\n"
          ]
        }
      ]
    },
    {
      "cell_type": "code",
      "source": [
        "import yaml\n",
        "import argparse\n",
        "import time\n",
        "import copy\n",
        "\n",
        "import torch\n",
        "import torchtext\n",
        "from torchtext import datasets\n",
        "from torch import nn\n",
        "from d2l import torch as d2l\n",
        "\n",
        "import re\n",
        "import pandas as pd\n",
        "import seaborn as sns\n",
        "from matplotlib import pyplot as plt\n",
        "from sklearn.metrics import classification_report"
      ],
      "metadata": {
        "id": "xdogk3dvGVqR"
      },
      "execution_count": 17,
      "outputs": []
    },
    {
      "cell_type": "code",
      "source": [
        "import pandas as pd\n",
        "\n",
        "train = pd.read_csv(\"/content/train.csv\")\n",
        "test = pd.read_csv(\"/content/test.csv\")\n",
        "\n",
        "def change_label(x):\n",
        "  torch.manual_seed(123)\n",
        "\n",
        "  if x == \"Entailment\":\n",
        "    return 0\n",
        "  elif x == \"Contradiction\":\n",
        "    return 1\n",
        "  else:\n",
        "    return 2\n",
        "\n",
        "train = train.rename(columns={\"choice\": \"label\"})\n",
        "test = test.rename(columns={\"choice\": \"label\"})\n",
        "\n",
        "train[\"label\"] = train.label.apply(lambda x: change_label(x))\n",
        "test[\"label\"]  = test.label.apply(lambda x: change_label(x))"
      ],
      "metadata": {
        "id": "oSa6XYSQB8Me"
      },
      "execution_count": 19,
      "outputs": []
    },
    {
      "cell_type": "markdown",
      "source": [
        "## Create Dataset"
      ],
      "metadata": {
        "id": "hszRgN28QyPG"
      }
    },
    {
      "cell_type": "code",
      "source": [
        "class SNLIDataset(torch.utils.data.Dataset):\n",
        "    \"\"\"A customized dataset to load the SNLI dataset.\"\"\"\n",
        "    def __init__(self, dataset, num_steps, vocab=None):\n",
        "        torch.manual_seed(123)\n",
        "        self.num_steps = num_steps\n",
        "        all_premise_tokens = d2l.tokenize(dataset[\"hypotheis\"])\n",
        "        all_hypothesis_tokens = d2l.tokenize(dataset[\"premise\"])\n",
        "        if vocab is None:\n",
        "            self.vocab = d2l.Vocab(all_premise_tokens + all_hypothesis_tokens,\n",
        "                                   min_freq=5, reserved_tokens=['<pad>'])\n",
        "        else:\n",
        "            self.vocab = vocab\n",
        "        self.premises = self._pad(all_premise_tokens)\n",
        "        self.hypotheses = self._pad(all_hypothesis_tokens)\n",
        "        self.labels = torch.tensor(dataset[\"label\"])\n",
        "        print('read ' + str(len(self.premises)) + ' examples')\n",
        "\n",
        "    def _pad(self, lines):\n",
        "        torch.manual_seed(123)\n",
        "        return torch.tensor([d2l.truncate_pad(\n",
        "            self.vocab[line], self.num_steps, self.vocab['<pad>'])\n",
        "                         for line in lines])\n",
        "\n",
        "    def __getitem__(self, idx):\n",
        "        torch.manual_seed(123)\n",
        "        return (self.premises[idx], self.hypotheses[idx]), self.labels[idx]\n",
        "\n",
        "    def __len__(self):\n",
        "        torch.manual_seed(123)\n",
        "        return len(self.premises)"
      ],
      "metadata": {
        "id": "3X8XPCpUF6_m"
      },
      "execution_count": 20,
      "outputs": []
    },
    {
      "cell_type": "code",
      "source": [
        "import torch\n",
        "from torch import nn\n",
        "from torch.nn import functional as F\n",
        "from d2l import torch as d2l"
      ],
      "metadata": {
        "id": "JHzGwqJmMn-k"
      },
      "execution_count": 21,
      "outputs": []
    },
    {
      "cell_type": "markdown",
      "source": [
        "\n",
        "\n",
        "![image.png](data:image/png;base64,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)"
      ],
      "metadata": {
        "id": "YmwnHBTDQ2jt"
      }
    },
    {
      "cell_type": "markdown",
      "source": [
        "## Model"
      ],
      "metadata": {
        "id": "nqF9kbqHQ6tt"
      }
    },
    {
      "cell_type": "markdown",
      "source": [
        "![image.png](data:image/png;base64,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)"
      ],
      "metadata": {
        "id": "2ct2f6V6Q9Ed"
      }
    },
    {
      "cell_type": "markdown",
      "source": [
        "## Atending"
      ],
      "metadata": {
        "id": "samaaWiXRD-e"
      }
    },
    {
      "cell_type": "code",
      "source": [
        "def mlp(num_inputs, num_hiddens, flatten):\n",
        "    torch.manual_seed(123)\n",
        "    net = []\n",
        "    net.append(nn.Dropout(0.2))\n",
        "    net.append(nn.Linear(num_inputs, num_hiddens))\n",
        "    net.append(nn.ReLU())\n",
        "    if flatten:\n",
        "        net.append(nn.Flatten(start_dim=1))\n",
        "    net.append(nn.Dropout(0.2))\n",
        "    net.append(nn.Linear(num_hiddens, num_hiddens))\n",
        "    net.append(nn.ReLU())\n",
        "    if flatten:\n",
        "        net.append(nn.Flatten(start_dim=1))\n",
        "    return nn.Sequential(*net)"
      ],
      "metadata": {
        "id": "c5EoyAzXMshr"
      },
      "execution_count": 22,
      "outputs": []
    },
    {
      "cell_type": "code",
      "source": [
        "class Attend(nn.Module):\n",
        "    def __init__(self, num_inputs, num_hiddens, **kwargs):\n",
        "        torch.manual_seed(123)\n",
        "        super(Attend, self).__init__(**kwargs)\n",
        "        self.f = mlp(num_inputs, num_hiddens, flatten=False)\n",
        "\n",
        "    def forward(self, A, B):\n",
        "        torch.manual_seed(123)\n",
        "        # Shape of `A`/`B`: (`batch_size`, no. of tokens in sequence A/B,\n",
        "        # `embed_size`)\n",
        "        # Shape of `f_A`/`f_B`: (`batch_size`, no. of tokens in sequence A/B,\n",
        "        # `num_hiddens`)\n",
        "        f_A = self.f(A)\n",
        "        f_B = self.f(B)\n",
        "        # Shape of `e`: (`batch_size`, no. of tokens in sequence A,\n",
        "        # no. of tokens in sequence B)\n",
        "        e = torch.bmm(f_A, f_B.permute(0, 2, 1))\n",
        "        # Shape of `beta`: (`batch_size`, no. of tokens in sequence A,\n",
        "        # `embed_size`), where sequence B is softly aligned with each token\n",
        "        # (axis 1 of `beta`) in sequence A\n",
        "        beta = torch.bmm(F.softmax(e, dim=-1), B)\n",
        "        # Shape of `alpha`: (`batch_size`, no. of tokens in sequence B,\n",
        "        # `embed_size`), where sequence A is softly aligned with each token\n",
        "        # (axis 1 of `alpha`) in sequence B\n",
        "        alpha = torch.bmm(F.softmax(e.permute(0, 2, 1), dim=-1), A)\n",
        "        return beta, alpha"
      ],
      "metadata": {
        "id": "EXAl3uA9MvVU"
      },
      "execution_count": 23,
      "outputs": []
    },
    {
      "cell_type": "markdown",
      "source": [
        "## Comparing"
      ],
      "metadata": {
        "id": "6zhBy5qDRFw9"
      }
    },
    {
      "cell_type": "code",
      "source": [
        "class Compare(nn.Module):\n",
        "    def __init__(self, num_inputs, num_hiddens, **kwargs):\n",
        "        torch.manual_seed(123)\n",
        "        super(Compare, self).__init__(**kwargs)\n",
        "        self.g = mlp(num_inputs, num_hiddens, flatten=False)\n",
        "\n",
        "    def forward(self, A, B, beta, alpha):\n",
        "        torch.manual_seed(123)\n",
        "        V_A = self.g(torch.cat([A, beta], dim=2))\n",
        "        V_B = self.g(torch.cat([B, alpha], dim=2))\n",
        "        return V_A, V_B"
      ],
      "metadata": {
        "id": "n2HVxZdlMyZ0"
      },
      "execution_count": 24,
      "outputs": []
    },
    {
      "cell_type": "markdown",
      "source": [
        "## Aggregating"
      ],
      "metadata": {
        "id": "ihuGX1wlRIIj"
      }
    },
    {
      "cell_type": "code",
      "source": [
        "class Aggregate(nn.Module):\n",
        "    def __init__(self, num_inputs, num_hiddens, num_outputs, **kwargs):\n",
        "        torch.manual_seed(123)\n",
        "        super(Aggregate, self).__init__(**kwargs)\n",
        "        self.h = mlp(num_inputs, num_hiddens, flatten=True)\n",
        "        self.linear = nn.Linear(num_hiddens, num_outputs)\n",
        "\n",
        "    def forward(self, V_A, V_B):\n",
        "        torch.manual_seed(123)\n",
        "        # Sum up both sets of comparison vectors\n",
        "        V_A = V_A.sum(dim=1)\n",
        "        V_B = V_B.sum(dim=1)\n",
        "        # Feed the concatenation of both summarization results into an MLP\n",
        "        Y_hat = self.linear(self.h(torch.cat([V_A, V_B], dim=1)))\n",
        "        return Y_hat"
      ],
      "metadata": {
        "id": "xV9LlZ8GM0CE"
      },
      "execution_count": 25,
      "outputs": []
    },
    {
      "cell_type": "code",
      "source": [
        "class DecomposableAttention(nn.Module):\n",
        "    def __init__(self, vocab, embed_size, num_hiddens, num_inputs_attend=100,\n",
        "                 num_inputs_compare=200, num_inputs_agg=400, **kwargs):\n",
        "        torch.manual_seed(123)\n",
        "        super(DecomposableAttention, self).__init__(**kwargs)\n",
        "        self.embedding = nn.Embedding(len(vocab), embed_size)\n",
        "        self.attend = Attend(num_inputs_attend, num_hiddens)\n",
        "        self.compare = Compare(num_inputs_compare, num_hiddens)\n",
        "        # There are 3 possible outputs: entailment, contradiction, and neutral\n",
        "        self.aggregate = Aggregate(num_inputs_agg, num_hiddens, num_outputs=3)\n",
        "\n",
        "    def forward(self, X):\n",
        "        torch.manual_seed(123)\n",
        "        premises, hypotheses = X\n",
        "        A = self.embedding(premises)\n",
        "        B = self.embedding(hypotheses)\n",
        "        beta, alpha = self.attend(A, B)\n",
        "        V_A, V_B = self.compare(A, B, beta, alpha)\n",
        "        Y_hat = self.aggregate(V_A, V_B)\n",
        "        return Y_hat"
      ],
      "metadata": {
        "id": "0yTdbymhM5N9"
      },
      "execution_count": 26,
      "outputs": []
    },
    {
      "cell_type": "markdown",
      "source": [
        "## Focal Loss"
      ],
      "metadata": {
        "id": "xtewo_0qRP8k"
      }
    },
    {
      "cell_type": "code",
      "source": [
        "import torch\n",
        "from torch import nn\n",
        "from torch.nn import functional as F\n",
        "import numpy as np\n",
        "\n",
        "def reweight(cls_num_list, beta=0.9999):\n",
        "    torch.manual_seed(123)\n",
        "\n",
        "    \"\"\"\n",
        "    Implement reweighting by effective numbers\n",
        "    :param cls_num_list: a list containing # of samples of each class\n",
        "    :param beta: hyper-parameter for reweighting, see paper for more details\n",
        "    :return:\n",
        "    \"\"\"\n",
        "    per_cls_weights = None\n",
        "    #############################################################################\n",
        "    # TODO: reweight each class by effective numbers                            #\n",
        "    #############################################################################\n",
        "    per_cls_weights = []\n",
        "    for cls_num in cls_num_list:\n",
        "        per_cls_weights.append((1 - beta) / (1 - (beta ** cls_num)))         \n",
        "    #############################################################################\n",
        "    #                              END OF YOUR CODE                             #\n",
        "    #############################################################################\n",
        "    return per_cls_weights\n",
        "\n",
        "\n",
        "class FocalLoss(nn.Module):\n",
        "    def __init__(self, weight=None, gamma=0.1, device='cpu'):\n",
        "        torch.manual_seed(123)\n",
        "        super(FocalLoss, self).__init__()\n",
        "        assert gamma >= 0\n",
        "        self.gamma = gamma\n",
        "        self.weight = weight\n",
        "        self.device = device\n",
        "\n",
        "    def forward(self, input, target):\n",
        "        \"\"\"\n",
        "        Implement forward of focal loss\n",
        "        :param input: input predictions\n",
        "        :param target: labels\n",
        "        :return: tensor of focal loss in scalar\n",
        "        \"\"\"\n",
        "        torch.manual_seed(123)\n",
        "        loss = None\n",
        "        #############################################################################\n",
        "        # TODO: Implement forward pass of the focal loss                            #\n",
        "        #############################################################################\n",
        "        \n",
        "        input = input.to(self.device)\n",
        "        target = target.to(self.device)\n",
        "        import torch.nn.functional as F\n",
        "        weight=torch.from_numpy(np.array(self.weight)).float().to(self.device)\n",
        "        ce_loss = F.cross_entropy(input, target,  weight=weight)\n",
        "        pt = torch.exp(-ce_loss) \n",
        "        foc_loss = ((1 -pt) ** self.gamma * ce_loss)\n",
        "        loss = foc_loss.mean()\n",
        "        #############################################################################\n",
        "        #                              END OF YOUR CODE                             #\n",
        "        #############################################################################\n",
        "        return loss"
      ],
      "metadata": {
        "id": "6X8fcVLw2bZJ"
      },
      "execution_count": 27,
      "outputs": []
    },
    {
      "cell_type": "markdown",
      "source": [
        "# Hyperparameters\n"
      ],
      "metadata": {
        "id": "L3U5PFggSxJv"
      }
    },
    {
      "cell_type": "code",
      "source": [
        "torch.manual_seed(123)\n",
        "\n",
        "\n",
        "def load_config_notebook():\n",
        "  class Args:\n",
        "    num_step = 50\n",
        "    batch_size= 256\n",
        "    learning_rate= 0.01\n",
        "    reg= 0.0001\n",
        "    epochs= 10\n",
        "    steps= [6, 8]\n",
        "    warmup= 0\n",
        "    momentum= 0.75\n",
        "    gamma=3\n",
        "    beta= .75\n",
        "    max_netural= 5\n",
        "    save_best= True\n",
        "    model= DecomposableAttention\n",
        "    trainer= \"Adam\" #SGD can be Adam or SGD\n",
        "    loss= \"Focal\" #CrossEntropyLoss can be Focal or CrossEntropyLoss\n",
        "\n",
        "  return Args()\n",
        "\n",
        "args = load_config_notebook()"
      ],
      "metadata": {
        "id": "WwEfo4SAS60V"
      },
      "execution_count": 28,
      "outputs": []
    },
    {
      "cell_type": "markdown",
      "source": [
        "## Training Model"
      ],
      "metadata": {
        "id": "IBdgR-6hBgES"
      }
    },
    {
      "cell_type": "code",
      "source": [
        "train[\"label\"] = train[\"label\"].astype(int)\n",
        "test[\"label\"] = test[\"label\"].astype(int)"
      ],
      "metadata": {
        "id": "0dQB3aQ2sgyu"
      },
      "execution_count": 29,
      "outputs": []
    },
    {
      "cell_type": "code",
      "source": [
        "#############################################################\n",
        "# Create Dataset\n",
        "#############################################################\n",
        "torch.manual_seed(123)\n",
        "\n",
        "device = 'cuda' if torch.cuda.is_available() else 'cpu'\n",
        "num_steps = args.num_step\n",
        "batch_size = args.batch_size\n",
        "num_workers = d2l.get_dataloader_workers()\n",
        "train_set = SNLIDataset(train, num_steps)\n",
        "test_set = SNLIDataset(test, num_steps, train_set.vocab)\n",
        "vocab = train_set.vocab\n",
        "train_iter = torch.utils.data.DataLoader(train_set, batch_size,\n",
        "                                             shuffle=False,\n",
        "                                             num_workers=num_workers)\n",
        "test_iter = torch.utils.data.DataLoader(test_set, batch_size,\n",
        "                                        shuffle=False,\n",
        "                                        num_workers=num_workers)\n",
        "#############################################################\n",
        "# Set Up Model and Glove components\n",
        "#############################################################\n",
        "embed_size, num_hiddens, devices = 100, 200, d2l.try_all_gpus()\n",
        "net = DecomposableAttention(vocab, embed_size, num_hiddens)\n",
        "glove_embedding = d2l.TokenEmbedding('glove.6b.100d')\n",
        "embeds = glove_embedding[vocab.idx_to_token]\n",
        "net.embedding.weight.data.copy_(embeds);\n",
        "\n",
        "#############################################################\n",
        "# Train Model\n",
        "#############################################################\n",
        "\n",
        "torch.manual_seed(123)\n",
        "\n",
        "#reweight labels\n",
        "a = train.label.value_counts()\n",
        "cls_num_list = list([a[0],a[1],a[2]])\n",
        "per_cls_weights =  reweight(cls_num_list, beta=args.beta)\n",
        "\n",
        "#hyperparam criterion\n",
        "if args.trainer == \"Adam\":\n",
        "  trainer = torch.optim.Adam(net.parameters(), lr=args.learning_rate)\n",
        "else:\n",
        "  trainer = torch.optim.SGD(net.parameters(), lr=args.learning_rate,\\\n",
        "                            momentum=args.momentum)\n",
        "#hyperparam loss function\n",
        "if args.loss == \"Focal\":\n",
        "  loss = FocalLoss(weight=per_cls_weights, gamma=args.gamma).to(device)\n",
        "else:\n",
        "  loss = nn.CrossEntropyLoss(reduction=\"none\")\n",
        "\n",
        "d2l.train_ch13(net, train_iter, test_iter, loss, trainer, args.epochs, devices)"
      ],
      "metadata": {
        "colab": {
          "base_uri": "https://localhost:8080/",
          "height": 302
        },
        "id": "tNBfE-lU2uNm",
        "outputId": "072b717b-ffaa-425d-9265-50adddfdfdd0"
      },
      "execution_count": 30,
      "outputs": [
        {
          "output_type": "stream",
          "name": "stdout",
          "text": [
            "loss 0.000, train acc 0.890, test acc 0.892\n",
            "16230.1 examples/sec on [device(type='cuda', index=0)]\n"
          ]
        },
        {
          "output_type": "display_data",
          "data": {
            "text/plain": [
              "<Figure size 252x180 with 1 Axes>"
            ],
            "image/svg+xml": "<?xml version=\"1.0\" encoding=\"utf-8\" standalone=\"no\"?>\n<!DOCTYPE svg PUBLIC \"-//W3C//DTD SVG 1.1//EN\"\n  \"http://www.w3.org/Graphics/SVG/1.1/DTD/svg11.dtd\">\n<!-- Created with matplotlib (https://matplotlib.org/) -->\n<svg height=\"184.455469pt\" version=\"1.1\" viewBox=\"0 0 238.965625 184.455469\" width=\"238.965625pt\" xmlns=\"http://www.w3.org/2000/svg\" xmlns:xlink=\"http://www.w3.org/1999/xlink\">\n <defs>\n  <style type=\"text/css\">\n*{stroke-linecap:butt;stroke-linejoin:round;}\n  </style>\n </defs>\n <g id=\"figure_1\">\n  <g id=\"patch_1\">\n   <path d=\"M 0 184.455469 \nL 238.965625 184.455469 \nL 238.965625 -0 \nL 0 -0 \nz\n\" style=\"fill:none;\"/>\n  </g>\n  <g id=\"axes_1\">\n   <g id=\"patch_2\">\n    <path d=\"M 30.103125 146.899219 \nL 225.403125 146.899219 \nL 225.403125 10.999219 \nL 30.103125 10.999219 \nz\n\" style=\"fill:#ffffff;\"/>\n   </g>\n   <g id=\"matplotlib.axis_1\">\n    <g id=\"xtick_1\">\n     <g id=\"line2d_1\">\n      <path clip-path=\"url(#pddd4d06a71)\" d=\"M 51.803125 146.899219 \nL 51.803125 10.999219 \n\" style=\"fill:none;stroke:#b0b0b0;stroke-linecap:square;stroke-width:0.8;\"/>\n     </g>\n     <g id=\"line2d_2\">\n      <defs>\n       <path d=\"M 0 0 \nL 0 3.5 \n\" id=\"mecfa2e0674\" style=\"stroke:#000000;stroke-width:0.8;\"/>\n      </defs>\n      <g>\n       <use style=\"stroke:#000000;stroke-width:0.8;\" x=\"51.803125\" xlink:href=\"#mecfa2e0674\" y=\"146.899219\"/>\n      </g>\n     </g>\n     <g id=\"text_1\">\n      <!-- 2 -->\n      <defs>\n       <path d=\"M 19.1875 8.296875 \nL 53.609375 8.296875 \nL 53.609375 0 \nL 7.328125 0 \nL 7.328125 8.296875 \nQ 12.9375 14.109375 22.625 23.890625 \nQ 32.328125 33.6875 34.8125 36.53125 \nQ 39.546875 41.84375 41.421875 45.53125 \nQ 43.3125 49.21875 43.3125 52.78125 \nQ 43.3125 58.59375 39.234375 62.25 \nQ 35.15625 65.921875 28.609375 65.921875 \nQ 23.96875 65.921875 18.8125 64.3125 \nQ 13.671875 62.703125 7.8125 59.421875 \nL 7.8125 69.390625 \nQ 13.765625 71.78125 18.9375 73 \nQ 24.125 74.21875 28.421875 74.21875 \nQ 39.75 74.21875 46.484375 68.546875 \nQ 53.21875 62.890625 53.21875 53.421875 \nQ 53.21875 48.921875 51.53125 44.890625 \nQ 49.859375 40.875 45.40625 35.40625 \nQ 44.1875 33.984375 37.640625 27.21875 \nQ 31.109375 20.453125 19.1875 8.296875 \nz\n\" id=\"DejaVuSans-50\"/>\n      </defs>\n      <g transform=\"translate(48.621875 161.497656)scale(0.1 -0.1)\">\n       <use xlink:href=\"#DejaVuSans-50\"/>\n      </g>\n     </g>\n    </g>\n    <g id=\"xtick_2\">\n     <g id=\"line2d_3\">\n      <path clip-path=\"url(#pddd4d06a71)\" d=\"M 95.203125 146.899219 \nL 95.203125 10.999219 \n\" style=\"fill:none;stroke:#b0b0b0;stroke-linecap:square;stroke-width:0.8;\"/>\n     </g>\n     <g id=\"line2d_4\">\n      <g>\n       <use style=\"stroke:#000000;stroke-width:0.8;\" x=\"95.203125\" xlink:href=\"#mecfa2e0674\" y=\"146.899219\"/>\n      </g>\n     </g>\n     <g id=\"text_2\">\n      <!-- 4 -->\n      <defs>\n       <path d=\"M 37.796875 64.3125 \nL 12.890625 25.390625 \nL 37.796875 25.390625 \nz\nM 35.203125 72.90625 \nL 47.609375 72.90625 \nL 47.609375 25.390625 \nL 58.015625 25.390625 \nL 58.015625 17.1875 \nL 47.609375 17.1875 \nL 47.609375 0 \nL 37.796875 0 \nL 37.796875 17.1875 \nL 4.890625 17.1875 \nL 4.890625 26.703125 \nz\n\" id=\"DejaVuSans-52\"/>\n      </defs>\n      <g transform=\"translate(92.021875 161.497656)scale(0.1 -0.1)\">\n       <use xlink:href=\"#DejaVuSans-52\"/>\n      </g>\n     </g>\n    </g>\n    <g id=\"xtick_3\">\n     <g id=\"line2d_5\">\n      <path clip-path=\"url(#pddd4d06a71)\" d=\"M 138.603125 146.899219 \nL 138.603125 10.999219 \n\" style=\"fill:none;stroke:#b0b0b0;stroke-linecap:square;stroke-width:0.8;\"/>\n     </g>\n     <g id=\"line2d_6\">\n      <g>\n       <use style=\"stroke:#000000;stroke-width:0.8;\" x=\"138.603125\" xlink:href=\"#mecfa2e0674\" y=\"146.899219\"/>\n      </g>\n     </g>\n     <g id=\"text_3\">\n      <!-- 6 -->\n      <defs>\n       <path d=\"M 33.015625 40.375 \nQ 26.375 40.375 22.484375 35.828125 \nQ 18.609375 31.296875 18.609375 23.390625 \nQ 18.609375 15.53125 22.484375 10.953125 \nQ 26.375 6.390625 33.015625 6.390625 \nQ 39.65625 6.390625 43.53125 10.953125 \nQ 47.40625 15.53125 47.40625 23.390625 \nQ 47.40625 31.296875 43.53125 35.828125 \nQ 39.65625 40.375 33.015625 40.375 \nz\nM 52.59375 71.296875 \nL 52.59375 62.3125 \nQ 48.875 64.0625 45.09375 64.984375 \nQ 41.3125 65.921875 37.59375 65.921875 \nQ 27.828125 65.921875 22.671875 59.328125 \nQ 17.53125 52.734375 16.796875 39.40625 \nQ 19.671875 43.65625 24.015625 45.921875 \nQ 28.375 48.1875 33.59375 48.1875 \nQ 44.578125 48.1875 50.953125 41.515625 \nQ 57.328125 34.859375 57.328125 23.390625 \nQ 57.328125 12.15625 50.6875 5.359375 \nQ 44.046875 -1.421875 33.015625 -1.421875 \nQ 20.359375 -1.421875 13.671875 8.265625 \nQ 6.984375 17.96875 6.984375 36.375 \nQ 6.984375 53.65625 15.1875 63.9375 \nQ 23.390625 74.21875 37.203125 74.21875 \nQ 40.921875 74.21875 44.703125 73.484375 \nQ 48.484375 72.75 52.59375 71.296875 \nz\n\" id=\"DejaVuSans-54\"/>\n      </defs>\n      <g transform=\"translate(135.421875 161.497656)scale(0.1 -0.1)\">\n       <use xlink:href=\"#DejaVuSans-54\"/>\n      </g>\n     </g>\n    </g>\n    <g id=\"xtick_4\">\n     <g id=\"line2d_7\">\n      <path clip-path=\"url(#pddd4d06a71)\" d=\"M 182.003125 146.899219 \nL 182.003125 10.999219 \n\" style=\"fill:none;stroke:#b0b0b0;stroke-linecap:square;stroke-width:0.8;\"/>\n     </g>\n     <g id=\"line2d_8\">\n      <g>\n       <use style=\"stroke:#000000;stroke-width:0.8;\" x=\"182.003125\" xlink:href=\"#mecfa2e0674\" y=\"146.899219\"/>\n      </g>\n     </g>\n     <g id=\"text_4\">\n      <!-- 8 -->\n      <defs>\n       <path d=\"M 31.78125 34.625 \nQ 24.75 34.625 20.71875 30.859375 \nQ 16.703125 27.09375 16.703125 20.515625 \nQ 16.703125 13.921875 20.71875 10.15625 \nQ 24.75 6.390625 31.78125 6.390625 \nQ 38.8125 6.390625 42.859375 10.171875 \nQ 46.921875 13.96875 46.921875 20.515625 \nQ 46.921875 27.09375 42.890625 30.859375 \nQ 38.875 34.625 31.78125 34.625 \nz\nM 21.921875 38.8125 \nQ 15.578125 40.375 12.03125 44.71875 \nQ 8.5 49.078125 8.5 55.328125 \nQ 8.5 64.0625 14.71875 69.140625 \nQ 20.953125 74.21875 31.78125 74.21875 \nQ 42.671875 74.21875 48.875 69.140625 \nQ 55.078125 64.0625 55.078125 55.328125 \nQ 55.078125 49.078125 51.53125 44.71875 \nQ 48 40.375 41.703125 38.8125 \nQ 48.828125 37.15625 52.796875 32.3125 \nQ 56.78125 27.484375 56.78125 20.515625 \nQ 56.78125 9.90625 50.3125 4.234375 \nQ 43.84375 -1.421875 31.78125 -1.421875 \nQ 19.734375 -1.421875 13.25 4.234375 \nQ 6.78125 9.90625 6.78125 20.515625 \nQ 6.78125 27.484375 10.78125 32.3125 \nQ 14.796875 37.15625 21.921875 38.8125 \nz\nM 18.3125 54.390625 \nQ 18.3125 48.734375 21.84375 45.5625 \nQ 25.390625 42.390625 31.78125 42.390625 \nQ 38.140625 42.390625 41.71875 45.5625 \nQ 45.3125 48.734375 45.3125 54.390625 \nQ 45.3125 60.0625 41.71875 63.234375 \nQ 38.140625 66.40625 31.78125 66.40625 \nQ 25.390625 66.40625 21.84375 63.234375 \nQ 18.3125 60.0625 18.3125 54.390625 \nz\n\" id=\"DejaVuSans-56\"/>\n      </defs>\n      <g transform=\"translate(178.821875 161.497656)scale(0.1 -0.1)\">\n       <use xlink:href=\"#DejaVuSans-56\"/>\n      </g>\n     </g>\n    </g>\n    <g id=\"xtick_5\">\n     <g id=\"line2d_9\">\n      <path clip-path=\"url(#pddd4d06a71)\" d=\"M 225.403125 146.899219 \nL 225.403125 10.999219 \n\" style=\"fill:none;stroke:#b0b0b0;stroke-linecap:square;stroke-width:0.8;\"/>\n     </g>\n     <g id=\"line2d_10\">\n      <g>\n       <use style=\"stroke:#000000;stroke-width:0.8;\" x=\"225.403125\" xlink:href=\"#mecfa2e0674\" y=\"146.899219\"/>\n      </g>\n     </g>\n     <g id=\"text_5\">\n      <!-- 10 -->\n      <defs>\n       <path d=\"M 12.40625 8.296875 \nL 28.515625 8.296875 \nL 28.515625 63.921875 \nL 10.984375 60.40625 \nL 10.984375 69.390625 \nL 28.421875 72.90625 \nL 38.28125 72.90625 \nL 38.28125 8.296875 \nL 54.390625 8.296875 \nL 54.390625 0 \nL 12.40625 0 \nz\n\" id=\"DejaVuSans-49\"/>\n       <path d=\"M 31.78125 66.40625 \nQ 24.171875 66.40625 20.328125 58.90625 \nQ 16.5 51.421875 16.5 36.375 \nQ 16.5 21.390625 20.328125 13.890625 \nQ 24.171875 6.390625 31.78125 6.390625 \nQ 39.453125 6.390625 43.28125 13.890625 \nQ 47.125 21.390625 47.125 36.375 \nQ 47.125 51.421875 43.28125 58.90625 \nQ 39.453125 66.40625 31.78125 66.40625 \nz\nM 31.78125 74.21875 \nQ 44.046875 74.21875 50.515625 64.515625 \nQ 56.984375 54.828125 56.984375 36.375 \nQ 56.984375 17.96875 50.515625 8.265625 \nQ 44.046875 -1.421875 31.78125 -1.421875 \nQ 19.53125 -1.421875 13.0625 8.265625 \nQ 6.59375 17.96875 6.59375 36.375 \nQ 6.59375 54.828125 13.0625 64.515625 \nQ 19.53125 74.21875 31.78125 74.21875 \nz\n\" id=\"DejaVuSans-48\"/>\n      </defs>\n      <g transform=\"translate(219.040625 161.497656)scale(0.1 -0.1)\">\n       <use xlink:href=\"#DejaVuSans-49\"/>\n       <use x=\"63.623047\" xlink:href=\"#DejaVuSans-48\"/>\n      </g>\n     </g>\n    </g>\n    <g id=\"text_6\">\n     <!-- epoch -->\n     <defs>\n      <path d=\"M 56.203125 29.59375 \nL 56.203125 25.203125 \nL 14.890625 25.203125 \nQ 15.484375 15.921875 20.484375 11.0625 \nQ 25.484375 6.203125 34.421875 6.203125 \nQ 39.59375 6.203125 44.453125 7.46875 \nQ 49.3125 8.734375 54.109375 11.28125 \nL 54.109375 2.78125 \nQ 49.265625 0.734375 44.1875 -0.34375 \nQ 39.109375 -1.421875 33.890625 -1.421875 \nQ 20.796875 -1.421875 13.15625 6.1875 \nQ 5.515625 13.8125 5.515625 26.8125 \nQ 5.515625 40.234375 12.765625 48.109375 \nQ 20.015625 56 32.328125 56 \nQ 43.359375 56 49.78125 48.890625 \nQ 56.203125 41.796875 56.203125 29.59375 \nz\nM 47.21875 32.234375 \nQ 47.125 39.59375 43.09375 43.984375 \nQ 39.0625 48.390625 32.421875 48.390625 \nQ 24.90625 48.390625 20.390625 44.140625 \nQ 15.875 39.890625 15.1875 32.171875 \nz\n\" id=\"DejaVuSans-101\"/>\n      <path d=\"M 18.109375 8.203125 \nL 18.109375 -20.796875 \nL 9.078125 -20.796875 \nL 9.078125 54.6875 \nL 18.109375 54.6875 \nL 18.109375 46.390625 \nQ 20.953125 51.265625 25.265625 53.625 \nQ 29.59375 56 35.59375 56 \nQ 45.5625 56 51.78125 48.09375 \nQ 58.015625 40.1875 58.015625 27.296875 \nQ 58.015625 14.40625 51.78125 6.484375 \nQ 45.5625 -1.421875 35.59375 -1.421875 \nQ 29.59375 -1.421875 25.265625 0.953125 \nQ 20.953125 3.328125 18.109375 8.203125 \nz\nM 48.6875 27.296875 \nQ 48.6875 37.203125 44.609375 42.84375 \nQ 40.53125 48.484375 33.40625 48.484375 \nQ 26.265625 48.484375 22.1875 42.84375 \nQ 18.109375 37.203125 18.109375 27.296875 \nQ 18.109375 17.390625 22.1875 11.75 \nQ 26.265625 6.109375 33.40625 6.109375 \nQ 40.53125 6.109375 44.609375 11.75 \nQ 48.6875 17.390625 48.6875 27.296875 \nz\n\" id=\"DejaVuSans-112\"/>\n      <path d=\"M 30.609375 48.390625 \nQ 23.390625 48.390625 19.1875 42.75 \nQ 14.984375 37.109375 14.984375 27.296875 \nQ 14.984375 17.484375 19.15625 11.84375 \nQ 23.34375 6.203125 30.609375 6.203125 \nQ 37.796875 6.203125 41.984375 11.859375 \nQ 46.1875 17.53125 46.1875 27.296875 \nQ 46.1875 37.015625 41.984375 42.703125 \nQ 37.796875 48.390625 30.609375 48.390625 \nz\nM 30.609375 56 \nQ 42.328125 56 49.015625 48.375 \nQ 55.71875 40.765625 55.71875 27.296875 \nQ 55.71875 13.875 49.015625 6.21875 \nQ 42.328125 -1.421875 30.609375 -1.421875 \nQ 18.84375 -1.421875 12.171875 6.21875 \nQ 5.515625 13.875 5.515625 27.296875 \nQ 5.515625 40.765625 12.171875 48.375 \nQ 18.84375 56 30.609375 56 \nz\n\" id=\"DejaVuSans-111\"/>\n      <path d=\"M 48.78125 52.59375 \nL 48.78125 44.1875 \nQ 44.96875 46.296875 41.140625 47.34375 \nQ 37.3125 48.390625 33.40625 48.390625 \nQ 24.65625 48.390625 19.8125 42.84375 \nQ 14.984375 37.3125 14.984375 27.296875 \nQ 14.984375 17.28125 19.8125 11.734375 \nQ 24.65625 6.203125 33.40625 6.203125 \nQ 37.3125 6.203125 41.140625 7.25 \nQ 44.96875 8.296875 48.78125 10.40625 \nL 48.78125 2.09375 \nQ 45.015625 0.34375 40.984375 -0.53125 \nQ 36.96875 -1.421875 32.421875 -1.421875 \nQ 20.0625 -1.421875 12.78125 6.34375 \nQ 5.515625 14.109375 5.515625 27.296875 \nQ 5.515625 40.671875 12.859375 48.328125 \nQ 20.21875 56 33.015625 56 \nQ 37.15625 56 41.109375 55.140625 \nQ 45.0625 54.296875 48.78125 52.59375 \nz\n\" id=\"DejaVuSans-99\"/>\n      <path d=\"M 54.890625 33.015625 \nL 54.890625 0 \nL 45.90625 0 \nL 45.90625 32.71875 \nQ 45.90625 40.484375 42.875 44.328125 \nQ 39.84375 48.1875 33.796875 48.1875 \nQ 26.515625 48.1875 22.3125 43.546875 \nQ 18.109375 38.921875 18.109375 30.90625 \nL 18.109375 0 \nL 9.078125 0 \nL 9.078125 75.984375 \nL 18.109375 75.984375 \nL 18.109375 46.1875 \nQ 21.34375 51.125 25.703125 53.5625 \nQ 30.078125 56 35.796875 56 \nQ 45.21875 56 50.046875 50.171875 \nQ 54.890625 44.34375 54.890625 33.015625 \nz\n\" id=\"DejaVuSans-104\"/>\n     </defs>\n     <g transform=\"translate(112.525 175.175781)scale(0.1 -0.1)\">\n      <use xlink:href=\"#DejaVuSans-101\"/>\n      <use x=\"61.523438\" xlink:href=\"#DejaVuSans-112\"/>\n      <use x=\"125\" xlink:href=\"#DejaVuSans-111\"/>\n      <use x=\"186.181641\" xlink:href=\"#DejaVuSans-99\"/>\n      <use x=\"241.162109\" xlink:href=\"#DejaVuSans-104\"/>\n     </g>\n    </g>\n   </g>\n   <g id=\"matplotlib.axis_2\">\n    <g id=\"ytick_1\">\n     <g id=\"line2d_11\">\n      <path clip-path=\"url(#pddd4d06a71)\" d=\"M 30.103125 146.899219 \nL 225.403125 146.899219 \n\" style=\"fill:none;stroke:#b0b0b0;stroke-linecap:square;stroke-width:0.8;\"/>\n     </g>\n     <g id=\"line2d_12\">\n      <defs>\n       <path d=\"M 0 0 \nL -3.5 0 \n\" id=\"md0c468f0b7\" style=\"stroke:#000000;stroke-width:0.8;\"/>\n      </defs>\n      <g>\n       <use style=\"stroke:#000000;stroke-width:0.8;\" x=\"30.103125\" xlink:href=\"#md0c468f0b7\" y=\"146.899219\"/>\n      </g>\n     </g>\n     <g id=\"text_7\">\n      <!-- 0.0 -->\n      <defs>\n       <path d=\"M 10.6875 12.40625 \nL 21 12.40625 \nL 21 0 \nL 10.6875 0 \nz\n\" id=\"DejaVuSans-46\"/>\n      </defs>\n      <g transform=\"translate(7.2 150.698437)scale(0.1 -0.1)\">\n       <use xlink:href=\"#DejaVuSans-48\"/>\n       <use x=\"63.623047\" xlink:href=\"#DejaVuSans-46\"/>\n       <use x=\"95.410156\" xlink:href=\"#DejaVuSans-48\"/>\n      </g>\n     </g>\n    </g>\n    <g id=\"ytick_2\">\n     <g id=\"line2d_13\">\n      <path clip-path=\"url(#pddd4d06a71)\" d=\"M 30.103125 119.719219 \nL 225.403125 119.719219 \n\" style=\"fill:none;stroke:#b0b0b0;stroke-linecap:square;stroke-width:0.8;\"/>\n     </g>\n     <g id=\"line2d_14\">\n      <g>\n       <use style=\"stroke:#000000;stroke-width:0.8;\" x=\"30.103125\" xlink:href=\"#md0c468f0b7\" y=\"119.719219\"/>\n      </g>\n     </g>\n     <g id=\"text_8\">\n      <!-- 0.2 -->\n      <g transform=\"translate(7.2 123.518437)scale(0.1 -0.1)\">\n       <use xlink:href=\"#DejaVuSans-48\"/>\n       <use x=\"63.623047\" xlink:href=\"#DejaVuSans-46\"/>\n       <use x=\"95.410156\" xlink:href=\"#DejaVuSans-50\"/>\n      </g>\n     </g>\n    </g>\n    <g id=\"ytick_3\">\n     <g id=\"line2d_15\">\n      <path clip-path=\"url(#pddd4d06a71)\" d=\"M 30.103125 92.539219 \nL 225.403125 92.539219 \n\" style=\"fill:none;stroke:#b0b0b0;stroke-linecap:square;stroke-width:0.8;\"/>\n     </g>\n     <g id=\"line2d_16\">\n      <g>\n       <use style=\"stroke:#000000;stroke-width:0.8;\" x=\"30.103125\" xlink:href=\"#md0c468f0b7\" y=\"92.539219\"/>\n      </g>\n     </g>\n     <g id=\"text_9\">\n      <!-- 0.4 -->\n      <g transform=\"translate(7.2 96.338437)scale(0.1 -0.1)\">\n       <use xlink:href=\"#DejaVuSans-48\"/>\n       <use x=\"63.623047\" xlink:href=\"#DejaVuSans-46\"/>\n       <use x=\"95.410156\" xlink:href=\"#DejaVuSans-52\"/>\n      </g>\n     </g>\n    </g>\n    <g id=\"ytick_4\">\n     <g id=\"line2d_17\">\n      <path clip-path=\"url(#pddd4d06a71)\" d=\"M 30.103125 65.359219 \nL 225.403125 65.359219 \n\" style=\"fill:none;stroke:#b0b0b0;stroke-linecap:square;stroke-width:0.8;\"/>\n     </g>\n     <g id=\"line2d_18\">\n      <g>\n       <use style=\"stroke:#000000;stroke-width:0.8;\" x=\"30.103125\" xlink:href=\"#md0c468f0b7\" y=\"65.359219\"/>\n      </g>\n     </g>\n     <g id=\"text_10\">\n      <!-- 0.6 -->\n      <g transform=\"translate(7.2 69.158437)scale(0.1 -0.1)\">\n       <use xlink:href=\"#DejaVuSans-48\"/>\n       <use x=\"63.623047\" xlink:href=\"#DejaVuSans-46\"/>\n       <use x=\"95.410156\" xlink:href=\"#DejaVuSans-54\"/>\n      </g>\n     </g>\n    </g>\n    <g id=\"ytick_5\">\n     <g id=\"line2d_19\">\n      <path clip-path=\"url(#pddd4d06a71)\" d=\"M 30.103125 38.179219 \nL 225.403125 38.179219 \n\" style=\"fill:none;stroke:#b0b0b0;stroke-linecap:square;stroke-width:0.8;\"/>\n     </g>\n     <g id=\"line2d_20\">\n      <g>\n       <use style=\"stroke:#000000;stroke-width:0.8;\" x=\"30.103125\" xlink:href=\"#md0c468f0b7\" y=\"38.179219\"/>\n      </g>\n     </g>\n     <g id=\"text_11\">\n      <!-- 0.8 -->\n      <g transform=\"translate(7.2 41.978437)scale(0.1 -0.1)\">\n       <use xlink:href=\"#DejaVuSans-48\"/>\n       <use x=\"63.623047\" xlink:href=\"#DejaVuSans-46\"/>\n       <use x=\"95.410156\" xlink:href=\"#DejaVuSans-56\"/>\n      </g>\n     </g>\n    </g>\n    <g id=\"ytick_6\">\n     <g id=\"line2d_21\">\n      <path clip-path=\"url(#pddd4d06a71)\" d=\"M 30.103125 10.999219 \nL 225.403125 10.999219 \n\" style=\"fill:none;stroke:#b0b0b0;stroke-linecap:square;stroke-width:0.8;\"/>\n     </g>\n     <g id=\"line2d_22\">\n      <g>\n       <use style=\"stroke:#000000;stroke-width:0.8;\" x=\"30.103125\" xlink:href=\"#md0c468f0b7\" y=\"10.999219\"/>\n      </g>\n     </g>\n     <g id=\"text_12\">\n      <!-- 1.0 -->\n      <g transform=\"translate(7.2 14.798437)scale(0.1 -0.1)\">\n       <use xlink:href=\"#DejaVuSans-49\"/>\n       <use x=\"63.623047\" xlink:href=\"#DejaVuSans-46\"/>\n       <use x=\"95.410156\" xlink:href=\"#DejaVuSans-48\"/>\n      </g>\n     </g>\n    </g>\n   </g>\n   <g id=\"line2d_23\">\n    <path clip-path=\"url(#pddd4d06a71)\" d=\"M 12.699434 146.564386 \nL 16.995742 146.728131 \nL 21.292051 146.782546 \nL 25.58836 146.810701 \nL 29.884669 146.825347 \nL 30.103125 146.824171 \nL 34.399434 146.886049 \nL 38.695742 146.88958 \nL 42.992051 146.890354 \nL 47.28836 146.891634 \nL 51.584669 146.891646 \nL 51.803125 146.891667 \nL 56.099434 146.892718 \nL 60.395742 146.89349 \nL 64.692051 146.893368 \nL 68.98836 146.894185 \nL 73.284669 146.89401 \nL 73.503125 146.894014 \nL 77.799434 146.893554 \nL 82.095742 146.8945 \nL 86.392051 146.894363 \nL 90.68836 146.895 \nL 94.984669 146.885648 \nL 95.203125 146.885659 \nL 99.499434 146.87741 \nL 103.795742 146.88446 \nL 108.092051 146.885729 \nL 112.38836 146.887776 \nL 116.684669 146.887473 \nL 116.903125 146.887447 \nL 121.199434 146.888735 \nL 125.495742 146.89009 \nL 129.792051 146.889475 \nL 134.08836 146.890588 \nL 138.384669 146.889748 \nL 138.603125 146.889706 \nL 142.899434 146.88874 \nL 147.195742 146.890095 \nL 151.492051 146.88948 \nL 155.78836 146.890592 \nL 160.084669 146.889762 \nL 160.303125 146.889719 \nL 164.599434 146.888742 \nL 168.895742 146.890097 \nL 173.192051 146.889482 \nL 177.48836 146.890594 \nL 181.784669 146.889768 \nL 182.003125 146.889726 \nL 186.299434 146.888744 \nL 190.595742 146.8901 \nL 194.892051 146.889484 \nL 199.18836 146.890596 \nL 203.484669 146.889773 \nL 203.703125 146.889731 \nL 207.999434 146.888745 \nL 212.295742 146.890101 \nL 216.592051 146.889485 \nL 220.88836 146.890597 \nL 225.184669 146.889776 \nL 225.403125 146.889734 \n\" style=\"fill:none;stroke:#1f77b4;stroke-linecap:square;stroke-width:1.5;\"/>\n   </g>\n   <g id=\"line2d_24\">\n    <path clip-path=\"url(#pddd4d06a71)\" d=\"M 12.699434 27.356886 \nL 16.995742 26.164701 \nL 21.292051 26.51111 \nL 25.58836 25.600101 \nL 29.884669 26.187195 \nL 30.103125 26.196623 \nL 34.399434 26.223186 \nL 38.695742 25.629343 \nL 42.992051 26.160203 \nL 47.28836 25.350417 \nL 51.584669 25.938861 \nL 51.803125 25.950236 \nL 56.099434 26.097219 \nL 60.395742 25.683329 \nL 64.692051 26.178198 \nL 68.98836 25.348168 \nL 73.284669 25.910069 \nL 73.503125 25.919884 \nL 77.799434 26.052231 \nL 82.095742 25.503377 \nL 86.392051 25.995246 \nL 90.68836 25.181712 \nL 94.984669 25.809296 \nL 95.203125 25.821687 \nL 99.499434 26.35815 \nL 103.795742 25.665334 \nL 108.092051 26.181197 \nL 112.38836 25.352667 \nL 116.684669 25.926265 \nL 116.903125 25.937738 \nL 121.199434 26.115215 \nL 125.495742 25.543866 \nL 129.792051 26.097219 \nL 134.08836 25.289683 \nL 138.384669 25.875878 \nL 138.603125 25.887747 \nL 142.899434 26.115215 \nL 147.195742 25.543866 \nL 151.492051 26.097219 \nL 155.78836 25.289683 \nL 160.084669 25.875878 \nL 160.303125 25.887747 \nL 164.599434 26.115215 \nL 168.895742 25.543866 \nL 173.192051 26.097219 \nL 177.48836 25.289683 \nL 181.784669 25.875878 \nL 182.003125 25.887747 \nL 186.299434 26.115215 \nL 190.595742 25.543866 \nL 194.892051 26.097219 \nL 199.18836 25.289683 \nL 203.484669 25.875878 \nL 203.703125 25.887747 \nL 207.999434 26.115215 \nL 212.295742 25.543866 \nL 216.592051 26.097219 \nL 220.88836 25.289683 \nL 225.184669 25.875878 \nL 225.403125 25.887747 \n\" style=\"fill:none;stroke:#bf00bf;stroke-dasharray:5.55,2.4;stroke-dashoffset:0;stroke-width:1.5;\"/>\n   </g>\n   <g id=\"line2d_25\">\n    <path clip-path=\"url(#pddd4d06a71)\" d=\"M 30.103125 25.636856 \nL 51.803125 25.636856 \nL 73.503125 25.478216 \nL 95.203125 25.551434 \nL 116.903125 25.636856 \nL 138.603125 25.636856 \nL 160.303125 25.636856 \nL 182.003125 25.636856 \nL 203.703125 25.636856 \nL 225.403125 25.636856 \n\" style=\"fill:none;stroke:#008000;stroke-dasharray:9.6,2.4,1.5,2.4;stroke-dashoffset:0;stroke-width:1.5;\"/>\n   </g>\n   <g id=\"patch_3\">\n    <path d=\"M 30.103125 146.899219 \nL 30.103125 10.999219 \n\" style=\"fill:none;stroke:#000000;stroke-linecap:square;stroke-linejoin:miter;stroke-width:0.8;\"/>\n   </g>\n   <g id=\"patch_4\">\n    <path d=\"M 225.403125 146.899219 \nL 225.403125 10.999219 \n\" style=\"fill:none;stroke:#000000;stroke-linecap:square;stroke-linejoin:miter;stroke-width:0.8;\"/>\n   </g>\n   <g id=\"patch_5\">\n    <path d=\"M 30.103125 146.899219 \nL 225.403125 146.899219 \n\" style=\"fill:none;stroke:#000000;stroke-linecap:square;stroke-linejoin:miter;stroke-width:0.8;\"/>\n   </g>\n   <g id=\"patch_6\">\n    <path d=\"M 30.103125 10.999219 \nL 225.403125 10.999219 \n\" style=\"fill:none;stroke:#000000;stroke-linecap:square;stroke-linejoin:miter;stroke-width:0.8;\"/>\n   </g>\n   <g id=\"legend_1\">\n    <g id=\"patch_7\">\n     <path d=\"M 37.103125 141.899219 \nL 114.871875 141.899219 \nQ 116.871875 141.899219 116.871875 139.899219 \nL 116.871875 96.864844 \nQ 116.871875 94.864844 114.871875 94.864844 \nL 37.103125 94.864844 \nQ 35.103125 94.864844 35.103125 96.864844 \nL 35.103125 139.899219 \nQ 35.103125 141.899219 37.103125 141.899219 \nz\n\" style=\"fill:#ffffff;opacity:0.8;stroke:#cccccc;stroke-linejoin:miter;\"/>\n    </g>\n    <g id=\"line2d_26\">\n     <path d=\"M 39.103125 102.963281 \nL 59.103125 102.963281 \n\" style=\"fill:none;stroke:#1f77b4;stroke-linecap:square;stroke-width:1.5;\"/>\n    </g>\n    <g id=\"line2d_27\"/>\n    <g id=\"text_13\">\n     <!-- train loss -->\n     <defs>\n      <path d=\"M 18.3125 70.21875 \nL 18.3125 54.6875 \nL 36.8125 54.6875 \nL 36.8125 47.703125 \nL 18.3125 47.703125 \nL 18.3125 18.015625 \nQ 18.3125 11.328125 20.140625 9.421875 \nQ 21.96875 7.515625 27.59375 7.515625 \nL 36.8125 7.515625 \nL 36.8125 0 \nL 27.59375 0 \nQ 17.1875 0 13.234375 3.875 \nQ 9.28125 7.765625 9.28125 18.015625 \nL 9.28125 47.703125 \nL 2.6875 47.703125 \nL 2.6875 54.6875 \nL 9.28125 54.6875 \nL 9.28125 70.21875 \nz\n\" id=\"DejaVuSans-116\"/>\n      <path d=\"M 41.109375 46.296875 \nQ 39.59375 47.171875 37.8125 47.578125 \nQ 36.03125 48 33.890625 48 \nQ 26.265625 48 22.1875 43.046875 \nQ 18.109375 38.09375 18.109375 28.8125 \nL 18.109375 0 \nL 9.078125 0 \nL 9.078125 54.6875 \nL 18.109375 54.6875 \nL 18.109375 46.1875 \nQ 20.953125 51.171875 25.484375 53.578125 \nQ 30.03125 56 36.53125 56 \nQ 37.453125 56 38.578125 55.875 \nQ 39.703125 55.765625 41.0625 55.515625 \nz\n\" id=\"DejaVuSans-114\"/>\n      <path d=\"M 34.28125 27.484375 \nQ 23.390625 27.484375 19.1875 25 \nQ 14.984375 22.515625 14.984375 16.5 \nQ 14.984375 11.71875 18.140625 8.90625 \nQ 21.296875 6.109375 26.703125 6.109375 \nQ 34.1875 6.109375 38.703125 11.40625 \nQ 43.21875 16.703125 43.21875 25.484375 \nL 43.21875 27.484375 \nz\nM 52.203125 31.203125 \nL 52.203125 0 \nL 43.21875 0 \nL 43.21875 8.296875 \nQ 40.140625 3.328125 35.546875 0.953125 \nQ 30.953125 -1.421875 24.3125 -1.421875 \nQ 15.921875 -1.421875 10.953125 3.296875 \nQ 6 8.015625 6 15.921875 \nQ 6 25.140625 12.171875 29.828125 \nQ 18.359375 34.515625 30.609375 34.515625 \nL 43.21875 34.515625 \nL 43.21875 35.40625 \nQ 43.21875 41.609375 39.140625 45 \nQ 35.0625 48.390625 27.6875 48.390625 \nQ 23 48.390625 18.546875 47.265625 \nQ 14.109375 46.140625 10.015625 43.890625 \nL 10.015625 52.203125 \nQ 14.9375 54.109375 19.578125 55.046875 \nQ 24.21875 56 28.609375 56 \nQ 40.484375 56 46.34375 49.84375 \nQ 52.203125 43.703125 52.203125 31.203125 \nz\n\" id=\"DejaVuSans-97\"/>\n      <path d=\"M 9.421875 54.6875 \nL 18.40625 54.6875 \nL 18.40625 0 \nL 9.421875 0 \nz\nM 9.421875 75.984375 \nL 18.40625 75.984375 \nL 18.40625 64.59375 \nL 9.421875 64.59375 \nz\n\" id=\"DejaVuSans-105\"/>\n      <path d=\"M 54.890625 33.015625 \nL 54.890625 0 \nL 45.90625 0 \nL 45.90625 32.71875 \nQ 45.90625 40.484375 42.875 44.328125 \nQ 39.84375 48.1875 33.796875 48.1875 \nQ 26.515625 48.1875 22.3125 43.546875 \nQ 18.109375 38.921875 18.109375 30.90625 \nL 18.109375 0 \nL 9.078125 0 \nL 9.078125 54.6875 \nL 18.109375 54.6875 \nL 18.109375 46.1875 \nQ 21.34375 51.125 25.703125 53.5625 \nQ 30.078125 56 35.796875 56 \nQ 45.21875 56 50.046875 50.171875 \nQ 54.890625 44.34375 54.890625 33.015625 \nz\n\" id=\"DejaVuSans-110\"/>\n      <path id=\"DejaVuSans-32\"/>\n      <path d=\"M 9.421875 75.984375 \nL 18.40625 75.984375 \nL 18.40625 0 \nL 9.421875 0 \nz\n\" id=\"DejaVuSans-108\"/>\n      <path d=\"M 44.28125 53.078125 \nL 44.28125 44.578125 \nQ 40.484375 46.53125 36.375 47.5 \nQ 32.28125 48.484375 27.875 48.484375 \nQ 21.1875 48.484375 17.84375 46.4375 \nQ 14.5 44.390625 14.5 40.28125 \nQ 14.5 37.15625 16.890625 35.375 \nQ 19.28125 33.59375 26.515625 31.984375 \nL 29.59375 31.296875 \nQ 39.15625 29.25 43.1875 25.515625 \nQ 47.21875 21.78125 47.21875 15.09375 \nQ 47.21875 7.46875 41.1875 3.015625 \nQ 35.15625 -1.421875 24.609375 -1.421875 \nQ 20.21875 -1.421875 15.453125 -0.5625 \nQ 10.6875 0.296875 5.421875 2 \nL 5.421875 11.28125 \nQ 10.40625 8.6875 15.234375 7.390625 \nQ 20.0625 6.109375 24.8125 6.109375 \nQ 31.15625 6.109375 34.5625 8.28125 \nQ 37.984375 10.453125 37.984375 14.40625 \nQ 37.984375 18.0625 35.515625 20.015625 \nQ 33.0625 21.96875 24.703125 23.78125 \nL 21.578125 24.515625 \nQ 13.234375 26.265625 9.515625 29.90625 \nQ 5.8125 33.546875 5.8125 39.890625 \nQ 5.8125 47.609375 11.28125 51.796875 \nQ 16.75 56 26.8125 56 \nQ 31.78125 56 36.171875 55.265625 \nQ 40.578125 54.546875 44.28125 53.078125 \nz\n\" id=\"DejaVuSans-115\"/>\n     </defs>\n     <g transform=\"translate(67.103125 106.463281)scale(0.1 -0.1)\">\n      <use xlink:href=\"#DejaVuSans-116\"/>\n      <use x=\"39.208984\" xlink:href=\"#DejaVuSans-114\"/>\n      <use x=\"80.322266\" xlink:href=\"#DejaVuSans-97\"/>\n      <use x=\"141.601562\" xlink:href=\"#DejaVuSans-105\"/>\n      <use x=\"169.384766\" xlink:href=\"#DejaVuSans-110\"/>\n      <use x=\"232.763672\" xlink:href=\"#DejaVuSans-32\"/>\n      <use x=\"264.550781\" xlink:href=\"#DejaVuSans-108\"/>\n      <use x=\"292.333984\" xlink:href=\"#DejaVuSans-111\"/>\n      <use x=\"353.515625\" xlink:href=\"#DejaVuSans-115\"/>\n      <use x=\"405.615234\" xlink:href=\"#DejaVuSans-115\"/>\n     </g>\n    </g>\n    <g id=\"line2d_28\">\n     <path d=\"M 39.103125 117.641406 \nL 59.103125 117.641406 \n\" style=\"fill:none;stroke:#bf00bf;stroke-dasharray:5.55,2.4;stroke-dashoffset:0;stroke-width:1.5;\"/>\n    </g>\n    <g id=\"line2d_29\"/>\n    <g id=\"text_14\">\n     <!-- train acc -->\n     <g transform=\"translate(67.103125 121.141406)scale(0.1 -0.1)\">\n      <use xlink:href=\"#DejaVuSans-116\"/>\n      <use x=\"39.208984\" xlink:href=\"#DejaVuSans-114\"/>\n      <use x=\"80.322266\" xlink:href=\"#DejaVuSans-97\"/>\n      <use x=\"141.601562\" xlink:href=\"#DejaVuSans-105\"/>\n      <use x=\"169.384766\" xlink:href=\"#DejaVuSans-110\"/>\n      <use x=\"232.763672\" xlink:href=\"#DejaVuSans-32\"/>\n      <use x=\"264.550781\" xlink:href=\"#DejaVuSans-97\"/>\n      <use x=\"325.830078\" xlink:href=\"#DejaVuSans-99\"/>\n      <use x=\"380.810547\" xlink:href=\"#DejaVuSans-99\"/>\n     </g>\n    </g>\n    <g id=\"line2d_30\">\n     <path d=\"M 39.103125 132.319531 \nL 59.103125 132.319531 \n\" style=\"fill:none;stroke:#008000;stroke-dasharray:9.6,2.4,1.5,2.4;stroke-dashoffset:0;stroke-width:1.5;\"/>\n    </g>\n    <g id=\"line2d_31\"/>\n    <g id=\"text_15\">\n     <!-- test acc -->\n     <g transform=\"translate(67.103125 135.819531)scale(0.1 -0.1)\">\n      <use xlink:href=\"#DejaVuSans-116\"/>\n      <use x=\"39.208984\" xlink:href=\"#DejaVuSans-101\"/>\n      <use x=\"100.732422\" xlink:href=\"#DejaVuSans-115\"/>\n      <use x=\"152.832031\" xlink:href=\"#DejaVuSans-116\"/>\n      <use x=\"192.041016\" xlink:href=\"#DejaVuSans-32\"/>\n      <use x=\"223.828125\" xlink:href=\"#DejaVuSans-97\"/>\n      <use x=\"285.107422\" xlink:href=\"#DejaVuSans-99\"/>\n      <use x=\"340.087891\" xlink:href=\"#DejaVuSans-99\"/>\n     </g>\n    </g>\n   </g>\n  </g>\n </g>\n <defs>\n  <clipPath id=\"pddd4d06a71\">\n   <rect height=\"135.9\" width=\"195.3\" x=\"30.103125\" y=\"10.999219\"/>\n  </clipPath>\n </defs>\n</svg>\n"
          },
          "metadata": {
            "needs_background": "light"
          }
        }
      ]
    },
    {
      "cell_type": "code",
      "source": [
        "train.label.value_counts()"
      ],
      "metadata": {
        "id": "eLDCApO91wl3",
        "colab": {
          "base_uri": "https://localhost:8080/"
        },
        "outputId": "745f28c0-0ed0-41be-e21a-af61712d2e69"
      },
      "execution_count": 31,
      "outputs": [
        {
          "output_type": "execute_result",
          "data": {
            "text/plain": [
              "2    67778\n",
              "0     6761\n",
              "1     1578\n",
              "Name: label, dtype: int64"
            ]
          },
          "metadata": {},
          "execution_count": 31
        }
      ]
    },
    {
      "cell_type": "markdown",
      "source": [
        "## Testing and Prediction"
      ],
      "metadata": {
        "id": "F-UOOK0cB6fG"
      }
    },
    {
      "cell_type": "code",
      "source": [
        "def predict_snli(net, vocab, premise, hypothesis):\n",
        "    torch.manual_seed(123)\n",
        "    \"\"\"Predict the logical relationship between the premise and hypothesis.\"\"\"\n",
        "    net.eval()\n",
        "    premise = torch.tensor(vocab[premise], device=d2l.try_gpu())\n",
        "    hypothesis = torch.tensor(vocab[hypothesis], device=d2l.try_gpu())\n",
        "    label = torch.argmax(net([premise.reshape((1, -1)),\n",
        "                           hypothesis.reshape((1, -1))]), dim=1)\n",
        "    return 'Entailment' if label == 0 else 'Contradiction' if label == 1 \\\n",
        "            else 'neutral'"
      ],
      "metadata": {
        "id": "9DUJzZAvQX3-"
      },
      "execution_count": 32,
      "outputs": []
    },
    {
      "cell_type": "code",
      "source": [
        "predict_snli(net, vocab, train.iloc[4, :][\"premise\"].split(), \\\n",
        "             train.iloc[4, :][\"hypotheis\"].split())"
      ],
      "metadata": {
        "id": "lVvD25ZfQzyf",
        "colab": {
          "base_uri": "https://localhost:8080/",
          "height": 35
        },
        "outputId": "16497c3e-76aa-4a6b-b17f-730e06467f1b"
      },
      "execution_count": 33,
      "outputs": [
        {
          "output_type": "execute_result",
          "data": {
            "text/plain": [
              "'neutral'"
            ],
            "application/vnd.google.colaboratory.intrinsic+json": {
              "type": "string"
            }
          },
          "metadata": {},
          "execution_count": 33
        }
      ]
    },
    {
      "cell_type": "code",
      "source": [
        "y_hat=[]\n",
        "for i in range(len(test)):\n",
        "    y_hat.append(predict_snli(net, vocab, test.iloc[i, :][\"premise\"].split(), \\\n",
        "                          test.iloc[i, :][\"hypotheis\"].split()))\n",
        "    \n",
        "    "
      ],
      "metadata": {
        "id": "2UBNKcFPVpL2"
      },
      "execution_count": 40,
      "outputs": []
    },
    {
      "cell_type": "code",
      "source": [
        "import collections\n",
        "\n",
        "frequency = collections.Counter(y_hat)\n",
        "frequency"
      ],
      "metadata": {
        "id": "2PWi1K-tFrvm",
        "colab": {
          "base_uri": "https://localhost:8080/"
        },
        "outputId": "c456942b-a185-444c-8c56-aaf77e25a226"
      },
      "execution_count": 43,
      "outputs": [
        {
          "output_type": "execute_result",
          "data": {
            "text/plain": [
              "Counter({'neutral': 22273})"
            ]
          },
          "metadata": {},
          "execution_count": 43
        }
      ]
    },
    {
      "cell_type": "code",
      "source": [
        "y_hat_transformed = [change_label(x) for x in y_hat]"
      ],
      "metadata": {
        "id": "55TjLyh-EcgM"
      },
      "execution_count": 44,
      "outputs": []
    },
    {
      "cell_type": "markdown",
      "source": [
        "## Metrics"
      ],
      "metadata": {
        "id": "WkiVus4BCc_P"
      }
    },
    {
      "cell_type": "code",
      "source": [
        "labels = test[\"label\"].values"
      ],
      "metadata": {
        "id": "iowW5wwsZuZh"
      },
      "execution_count": 45,
      "outputs": []
    },
    {
      "cell_type": "code",
      "source": [
        "print(f\"\\n {classification_report(labels, y_hat_transformed, labels=[0,1,2])}\")"
      ],
      "metadata": {
        "id": "56fYy0-nCfeG",
        "colab": {
          "base_uri": "https://localhost:8080/"
        },
        "outputId": "07c10547-eb54-45f4-9366-2684b09dc845"
      },
      "execution_count": 46,
      "outputs": [
        {
          "output_type": "stream",
          "name": "stdout",
          "text": [
            "\n",
            "               precision    recall  f1-score   support\n",
            "\n",
            "           0       0.00      0.00      0.00      1977\n",
            "           1       0.00      0.00      0.00       422\n",
            "           2       0.89      1.00      0.94     19874\n",
            "\n",
            "    accuracy                           0.89     22273\n",
            "   macro avg       0.30      0.33      0.31     22273\n",
            "weighted avg       0.80      0.89      0.84     22273\n",
            "\n"
          ]
        },
        {
          "output_type": "stream",
          "name": "stderr",
          "text": [
            "/usr/local/lib/python3.8/dist-packages/sklearn/metrics/_classification.py:1318: UndefinedMetricWarning: Precision and F-score are ill-defined and being set to 0.0 in labels with no predicted samples. Use `zero_division` parameter to control this behavior.\n",
            "  _warn_prf(average, modifier, msg_start, len(result))\n",
            "/usr/local/lib/python3.8/dist-packages/sklearn/metrics/_classification.py:1318: UndefinedMetricWarning: Precision and F-score are ill-defined and being set to 0.0 in labels with no predicted samples. Use `zero_division` parameter to control this behavior.\n",
            "  _warn_prf(average, modifier, msg_start, len(result))\n",
            "/usr/local/lib/python3.8/dist-packages/sklearn/metrics/_classification.py:1318: UndefinedMetricWarning: Precision and F-score are ill-defined and being set to 0.0 in labels with no predicted samples. Use `zero_division` parameter to control this behavior.\n",
            "  _warn_prf(average, modifier, msg_start, len(result))\n"
          ]
        }
      ]
    }
  ]
}